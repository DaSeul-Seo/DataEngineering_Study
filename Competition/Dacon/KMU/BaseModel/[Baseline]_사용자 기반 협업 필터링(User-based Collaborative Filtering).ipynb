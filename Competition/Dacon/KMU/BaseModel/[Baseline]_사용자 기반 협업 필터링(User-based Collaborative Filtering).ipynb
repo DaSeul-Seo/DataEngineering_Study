{
 "cells": [
  {
   "cell_type": "markdown",
   "id": "b61f7f3a-5205-46d9-9f27-5612cfc68ca7",
   "metadata": {},
   "source": [
    "## Import"
   ]
  },
  {
   "cell_type": "code",
   "execution_count": 1,
   "id": "71c31dfc-ebb8-4af4-a036-597365c5d3ba",
   "metadata": {
    "tags": []
   },
   "outputs": [],
   "source": [
    "import pandas as pd\n",
    "import numpy as np\n",
    "from sklearn.metrics.pairwise import cosine_similarity"
   ]
  },
  {
   "cell_type": "markdown",
   "id": "f66ab440-f598-4dbe-89de-8bc863bab258",
   "metadata": {},
   "source": [
    "## Data Load"
   ]
  },
  {
   "cell_type": "code",
   "execution_count": 2,
   "id": "d9feb8a6-5717-4221-950e-893002009824",
   "metadata": {},
   "outputs": [],
   "source": [
    "apply_train_df = pd.read_csv('apply_train.csv')"
   ]
  },
  {
   "cell_type": "code",
   "execution_count": 12,
   "id": "6116e4e4",
   "metadata": {},
   "outputs": [
    {
     "name": "stdout",
     "output_type": "stream",
     "text": [
      "<class 'pandas.core.frame.DataFrame'>\n",
      "RangeIndex: 57946 entries, 0 to 57945\n",
      "Data columns (total 2 columns):\n",
      " #   Column           Non-Null Count  Dtype \n",
      "---  ------           --------------  ----- \n",
      " 0   resume_seq       57946 non-null  object\n",
      " 1   recruitment_seq  57946 non-null  object\n",
      "dtypes: object(2)\n",
      "memory usage: 905.5+ KB\n"
     ]
    }
   ],
   "source": [
    "apply_train_df.info()\n",
    "#resume_seq = 구직자\n",
    "#recruitment_seq = 채용 공고"
   ]
  },
  {
   "cell_type": "markdown",
   "id": "40ed2463-79c1-462e-835e-eed30beee9b9",
   "metadata": {},
   "source": [
    "## User-Item Matrix / Similarity / Score"
   ]
  },
  {
   "cell_type": "code",
   "execution_count": 14,
   "id": "d70bbbf1-ccbe-41d2-a44e-572be670f7b3",
   "metadata": {},
   "outputs": [],
   "source": [
    "# 사용자-아이템 행렬 생성: 구직자가 해당 채용 공고에 지원했으면 1, 아니면 0으로 설정\n",
    "user_item_matrix = apply_train_df.groupby(['resume_seq', 'recruitment_seq']).size().unstack(fill_value=0)\n",
    "## .groupby : 두 컬럼을 기준으로 그룹화 한다. 즉, 각 구직자가 어떤 채용공고에 지원했는가를 나타낸다.\n",
    "## .size : 각 그룹의 크기를 계산한다. 즉, 몇 번 지원했는지를 나타낸다.\n",
    "## .unstack(fill_value=0) : 그룹 데이터를 Unpivot하고, 결측치(NaN)은 0으로 채운다. \n",
    "user_item_matrix[user_item_matrix > 1] = 1\n",
    "## 1보다 크면 1로 변환하다. 즉, 중복 지원 제거.\n",
    "\n",
    "# 사용자 간의 유사성 계산\n",
    "## 유사성 계산을 왜하지? -> 다른 사용자의 행동을 기반으로 추천을 수행하기 위해서.\n",
    "## 여기서 사용된 유사성 지표는 코사인 유사성이다.\n",
    "user_similarity = cosine_similarity(user_item_matrix)\n",
    "## cosine_similarity는 입력으로 구직자-공고 행렬(user_item_matrix)을 받아 사용자 간의 코사인 유사성을 계산\n",
    "## 두 벡터(사용자) 간의 각도에 대한 코사인 값을 사용하여 유사성을 측정하는 지표\n",
    "## 두 사용자 간의 코사인 유사성이 높을수록 그들의 관심사가 유사하다고 판단 (1에 가까울수록 유사하고 -1에 가까울 수록 상반됨)\n",
    "### 즉, 어떤 유저들끼리 비슷한 공고들에 지원했다면, 유사도가 높을 것이다.\n",
    "\n",
    "# 추천 점수 계산\n",
    "user_predicted_scores = user_similarity.dot(user_item_matrix) / np.array([np.abs(user_similarity).sum(axis=1)]).T\n",
    "## .dot : user_similarity(유사성) 매트릭스와 user_item_matrix(지원 여부)를 행렬곱(내적)한다. 즉, 구직자-공고 행렬에 유사성을 활용한 가중치가 적용된다.\n",
    "## .abs : 절대값을 취한다. why? 상반의 관계라도 있기 때문에 적용하는걸까? 잘 모르겠다.\n",
    "## .sum(axis=1) : 각 행(구직자)을 따라 더한다. shape이 [n, 1] 형태를 띤다. 즉, 한 구직자가 다른 구직자들과 얼마나 유사한지를 나타내는 정도가 된다.\n",
    "## np.array를 씌워서 [1, n] 형태의 행 벡터로 전환한다.\n",
    "## .T : 행 벡터를 전치(transpose)한다. [n, 1] 형태가 된다. 즉, 열 벡터 형태를 띄게 된다.\n",
    "\n",
    "## 따라서 최종 결과값은 : 가중치가 합산된 구직자-공고 매트릭스를 구직자간 유사도로 나눈다. \n",
    "## why? 채용 공고에 대한 예측 점수를 정규화 된 유사성을 사용하여 모든 사용자의 예측 점수를 [0, 1] 범위로 조정하기 위함이다."
   ]
  },
  {
   "cell_type": "code",
   "execution_count": 21,
   "id": "29190877",
   "metadata": {},
   "outputs": [
    {
     "name": "stdout",
     "output_type": "stream",
     "text": [
      "<class 'pandas.core.frame.DataFrame'>\n",
      "Index: 8482 entries, U00001 to U08482\n",
      "Columns: 6695 entries, R00001 to R06695\n",
      "dtypes: int64(6695)\n",
      "memory usage: 433.3+ MB\n"
     ]
    }
   ],
   "source": [
    "user_item_matrix.info()\n",
    "# 총 지원자 수 : 8482명\n",
    "# 총 채용공고 : 6695개"
   ]
  },
  {
   "cell_type": "code",
   "execution_count": 19,
   "id": "6dcc7d86",
   "metadata": {},
   "outputs": [
    {
     "data": {
      "text/plain": [
       "(array([1., 0., 0., ..., 0., 0., 0.]), 8482)"
      ]
     },
     "execution_count": 19,
     "metadata": {},
     "output_type": "execute_result"
    }
   ],
   "source": [
    "user_similarity[0], len(user_similarity[0])\n",
    "#유저간 매트릭스니까 당연히 유사도 결과값도 8482의 길이를 가짐"
   ]
  },
  {
   "cell_type": "code",
   "execution_count": 25,
   "id": "ac4c6a5c",
   "metadata": {},
   "outputs": [
    {
     "data": {
      "text/plain": [
       "array([[1., 0., 0., ..., 0., 0., 0.],\n",
       "       [0., 1., 0., ..., 0., 0., 0.],\n",
       "       [0., 0., 1., ..., 0., 0., 0.],\n",
       "       [0., 0., 0., ..., 0., 0., 0.],\n",
       "       [0., 0., 0., ..., 0., 0., 0.]])"
      ]
     },
     "execution_count": 25,
     "metadata": {},
     "output_type": "execute_result"
    }
   ],
   "source": [
    "user_similarity[:5]\n",
    "'''\n",
    "1: 두 벡터가 완전히 동일한 방향을 가질 때\n",
    "0: 두 벡터가 독립적이며 관련이 없을 때\n",
    "-1: 두 벡터가 완전히 상반된 방향을 가질 때\n",
    "'''"
   ]
  },
  {
   "cell_type": "code",
   "execution_count": 32,
   "id": "47e6b90f",
   "metadata": {},
   "outputs": [
    {
     "data": {
      "text/plain": [
       "(8482, 6695)"
      ]
     },
     "execution_count": 32,
     "metadata": {},
     "output_type": "execute_result"
    }
   ],
   "source": [
    "len(user_predicted_scores), len(user_predicted_scores[0])"
   ]
  },
  {
   "cell_type": "markdown",
   "id": "d26354ac-e4d1-45c8-9989-959ded47a495",
   "metadata": {},
   "source": [
    "## Prediction"
   ]
  },
  {
   "cell_type": "code",
   "execution_count": 4,
   "id": "d06ab32b-8d6f-4e60-b9ba-128fed459309",
   "metadata": {},
   "outputs": [],
   "source": [
    "# 이미 지원한 채용 공고 제외하고 추천\n",
    "recommendations = []\n",
    "for idx, user in enumerate(user_item_matrix.index):\n",
    "    # 해당 사용자가 지원한 채용 공고\n",
    "    applied_jobs = set(user_item_matrix.loc[user][user_item_matrix.loc[user] == 1].index)\n",
    "    \n",
    "    # 해당 사용자의 추천 점수 (높은 점수부터 정렬)\n",
    "    sorted_job_indices = user_predicted_scores[idx].argsort()[::-1]\n",
    "    recommended_jobs = [job for job in user_item_matrix.columns[sorted_job_indices] if job not in applied_jobs][:5]\n",
    "    \n",
    "    for job in recommended_jobs:\n",
    "        recommendations.append([user, job])"
   ]
  },
  {
   "cell_type": "markdown",
   "id": "40aa5ec7-6604-491f-973f-cd2c596cea32",
   "metadata": {},
   "source": [
    "## Submission"
   ]
  },
  {
   "cell_type": "code",
   "execution_count": 5,
   "id": "bb643208-457b-4a4f-a8f4-c74277338e05",
   "metadata": {},
   "outputs": [],
   "source": [
    "# sample_submission.csv 형태로 DataFrame 생성\n",
    "top_recommendations = pd.DataFrame(recommendations, columns=['resume_seq', 'recruitment_seq'])\n",
    "\n",
    "top_recommendations.to_csv('./baseline_submit.csv', index=False)"
   ]
  }
 ],
 "metadata": {
  "kernelspec": {
   "display_name": "PyTorch 1.14 (NGC 22.12/Python 3.8) on Backend.AI",
   "language": "python",
   "name": "python3"
  },
  "language_info": {
   "codemirror_mode": {
    "name": "ipython",
    "version": 3
   },
   "file_extension": ".py",
   "mimetype": "text/x-python",
   "name": "python",
   "nbconvert_exporter": "python",
   "pygments_lexer": "ipython3",
   "version": "3.11.5"
  }
 },
 "nbformat": 4,
 "nbformat_minor": 5
}
