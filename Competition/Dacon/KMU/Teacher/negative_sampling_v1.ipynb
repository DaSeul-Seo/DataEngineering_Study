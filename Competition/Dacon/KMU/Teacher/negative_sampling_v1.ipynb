{
 "cells": [
  {
   "cell_type": "code",
   "execution_count": 1,
   "metadata": {},
   "outputs": [],
   "source": [
    "import numpy as np \n",
    "import pandas as pd "
   ]
  },
  {
   "cell_type": "code",
   "execution_count": 2,
   "metadata": {},
   "outputs": [],
   "source": [
    "df_train = pd.read_csv('./data/apply_train.csv')"
   ]
  },
  {
   "cell_type": "code",
   "execution_count": 3,
   "metadata": {},
   "outputs": [
    {
     "data": {
      "text/html": [
       "<div>\n",
       "<style scoped>\n",
       "    .dataframe tbody tr th:only-of-type {\n",
       "        vertical-align: middle;\n",
       "    }\n",
       "\n",
       "    .dataframe tbody tr th {\n",
       "        vertical-align: top;\n",
       "    }\n",
       "\n",
       "    .dataframe thead th {\n",
       "        text-align: right;\n",
       "    }\n",
       "</style>\n",
       "<table border=\"1\" class=\"dataframe\">\n",
       "  <thead>\n",
       "    <tr style=\"text-align: right;\">\n",
       "      <th></th>\n",
       "      <th>resume_seq</th>\n",
       "      <th>recruitment_seq</th>\n",
       "    </tr>\n",
       "  </thead>\n",
       "  <tbody>\n",
       "    <tr>\n",
       "      <th>0</th>\n",
       "      <td>U05833</td>\n",
       "      <td>R03838</td>\n",
       "    </tr>\n",
       "    <tr>\n",
       "      <th>1</th>\n",
       "      <td>U06456</td>\n",
       "      <td>R02144</td>\n",
       "    </tr>\n",
       "    <tr>\n",
       "      <th>2</th>\n",
       "      <td>U07807</td>\n",
       "      <td>R01877</td>\n",
       "    </tr>\n",
       "    <tr>\n",
       "      <th>3</th>\n",
       "      <td>U04842</td>\n",
       "      <td>R02463</td>\n",
       "    </tr>\n",
       "    <tr>\n",
       "      <th>4</th>\n",
       "      <td>U08336</td>\n",
       "      <td>R00112</td>\n",
       "    </tr>\n",
       "  </tbody>\n",
       "</table>\n",
       "</div>"
      ],
      "text/plain": [
       "  resume_seq recruitment_seq\n",
       "0     U05833          R03838\n",
       "1     U06456          R02144\n",
       "2     U07807          R01877\n",
       "3     U04842          R02463\n",
       "4     U08336          R00112"
      ]
     },
     "execution_count": 3,
     "metadata": {},
     "output_type": "execute_result"
    }
   ],
   "source": [
    "df_train.head()"
   ]
  },
  {
   "cell_type": "code",
   "execution_count": 4,
   "metadata": {},
   "outputs": [
    {
     "data": {
      "text/plain": [
       "(8482, 6695)"
      ]
     },
     "execution_count": 4,
     "metadata": {},
     "output_type": "execute_result"
    }
   ],
   "source": [
    "resume_pool = set(df_train['resume_seq'].unique())\n",
    "recruitment_pool = set(df_train['recruitment_seq'].unique())\n",
    "\n",
    "len(resume_pool), len(recruitment_pool)"
   ]
  },
  {
   "cell_type": "code",
   "execution_count": 6,
   "metadata": {},
   "outputs": [
    {
     "data": {
      "text/plain": [
       "0"
      ]
     },
     "execution_count": 6,
     "metadata": {},
     "output_type": "execute_result"
    }
   ],
   "source": [
    "import random\n",
    "\n",
    "# 신청한 회사\n",
    "df_add_negative = df_train.groupby(['resume_seq'])['recruitment_seq'].apply(set).reset_index().rename(columns={'recruitment_seq':'interacted_iid'})  \n",
    "# 아직 신청하지 않은 회사 \n",
    "df_add_negative['negative_iid'] = df_add_negative['interacted_iid'].map(lambda x: recruitment_pool - x) \n",
    "# 신청한 수\n",
    "df_add_negative['interacted_iid_cnt'] = df_add_negative['interacted_iid'].map(lambda x: len(x))  \n",
    "# 신청한 횟수만큼 신청하지 않은 회사 추출..\n",
    "df_add_negative['negative_sampling'] = df_add_negative.apply(lambda row: random.sample(list(row['negative_iid']), row['interacted_iid_cnt']), axis=1) \n",
    "# 검증 코드 \n",
    "df_add_negative['negative_sampling_cnt'] = df_add_negative['negative_sampling'].map(lambda x: len(x))\n",
    "df_add_negative['is_error'] = df_add_negative.apply(lambda row: False if row['interacted_iid_cnt'] == row['negative_sampling_cnt'] else True, axis=1)\n",
    "df_add_negative['is_error'].sum()\n"
   ]
  },
  {
   "cell_type": "code",
   "execution_count": 7,
   "metadata": {},
   "outputs": [
    {
     "data": {
      "text/html": [
       "<div>\n",
       "<style scoped>\n",
       "    .dataframe tbody tr th:only-of-type {\n",
       "        vertical-align: middle;\n",
       "    }\n",
       "\n",
       "    .dataframe tbody tr th {\n",
       "        vertical-align: top;\n",
       "    }\n",
       "\n",
       "    .dataframe thead th {\n",
       "        text-align: right;\n",
       "    }\n",
       "</style>\n",
       "<table border=\"1\" class=\"dataframe\">\n",
       "  <thead>\n",
       "    <tr style=\"text-align: right;\">\n",
       "      <th></th>\n",
       "      <th>resume_seq</th>\n",
       "      <th>interacted_iid</th>\n",
       "      <th>negative_iid</th>\n",
       "      <th>interacted_iid_cnt</th>\n",
       "      <th>negative_sampling</th>\n",
       "      <th>negative_sampling_cnt</th>\n",
       "      <th>is_error</th>\n",
       "    </tr>\n",
       "  </thead>\n",
       "  <tbody>\n",
       "    <tr>\n",
       "      <th>0</th>\n",
       "      <td>U00001</td>\n",
       "      <td>{R05288, R04536, R05210, R06065}</td>\n",
       "      <td>{R01115, R04462, R04469, R03770, R06266, R0302...</td>\n",
       "      <td>4</td>\n",
       "      <td>[R00542, R05035, R04114, R04944]</td>\n",
       "      <td>4</td>\n",
       "      <td>False</td>\n",
       "    </tr>\n",
       "    <tr>\n",
       "      <th>1</th>\n",
       "      <td>U00002</td>\n",
       "      <td>{R01960, R04588, R02946, R01103, R06019, R0234...</td>\n",
       "      <td>{R01115, R04462, R04469, R03770, R06266, R0302...</td>\n",
       "      <td>8</td>\n",
       "      <td>[R02434, R05161, R04951, R06517, R04494, R0595...</td>\n",
       "      <td>8</td>\n",
       "      <td>False</td>\n",
       "    </tr>\n",
       "    <tr>\n",
       "      <th>2</th>\n",
       "      <td>U00003</td>\n",
       "      <td>{R04918, R01460, R03301}</td>\n",
       "      <td>{R01115, R04462, R04469, R03770, R06266, R0302...</td>\n",
       "      <td>3</td>\n",
       "      <td>[R03813, R01882, R01573]</td>\n",
       "      <td>3</td>\n",
       "      <td>False</td>\n",
       "    </tr>\n",
       "    <tr>\n",
       "      <th>3</th>\n",
       "      <td>U00004</td>\n",
       "      <td>{R04166, R01747, R02003, R01825, R04891, R0031...</td>\n",
       "      <td>{R01115, R04462, R04469, R03770, R06266, R0302...</td>\n",
       "      <td>17</td>\n",
       "      <td>[R02514, R03893, R05954, R04241, R06158, R0329...</td>\n",
       "      <td>17</td>\n",
       "      <td>False</td>\n",
       "    </tr>\n",
       "    <tr>\n",
       "      <th>4</th>\n",
       "      <td>U00005</td>\n",
       "      <td>{R03914, R00374, R00832}</td>\n",
       "      <td>{R01115, R04462, R04469, R03770, R06266, R0302...</td>\n",
       "      <td>3</td>\n",
       "      <td>[R05556, R06415, R01395]</td>\n",
       "      <td>3</td>\n",
       "      <td>False</td>\n",
       "    </tr>\n",
       "  </tbody>\n",
       "</table>\n",
       "</div>"
      ],
      "text/plain": [
       "  resume_seq                                     interacted_iid  \\\n",
       "0     U00001                   {R05288, R04536, R05210, R06065}   \n",
       "1     U00002  {R01960, R04588, R02946, R01103, R06019, R0234...   \n",
       "2     U00003                           {R04918, R01460, R03301}   \n",
       "3     U00004  {R04166, R01747, R02003, R01825, R04891, R0031...   \n",
       "4     U00005                           {R03914, R00374, R00832}   \n",
       "\n",
       "                                        negative_iid  interacted_iid_cnt  \\\n",
       "0  {R01115, R04462, R04469, R03770, R06266, R0302...                   4   \n",
       "1  {R01115, R04462, R04469, R03770, R06266, R0302...                   8   \n",
       "2  {R01115, R04462, R04469, R03770, R06266, R0302...                   3   \n",
       "3  {R01115, R04462, R04469, R03770, R06266, R0302...                  17   \n",
       "4  {R01115, R04462, R04469, R03770, R06266, R0302...                   3   \n",
       "\n",
       "                                   negative_sampling  negative_sampling_cnt  \\\n",
       "0                   [R00542, R05035, R04114, R04944]                      4   \n",
       "1  [R02434, R05161, R04951, R06517, R04494, R0595...                      8   \n",
       "2                           [R03813, R01882, R01573]                      3   \n",
       "3  [R02514, R03893, R05954, R04241, R06158, R0329...                     17   \n",
       "4                           [R05556, R06415, R01395]                      3   \n",
       "\n",
       "   is_error  \n",
       "0     False  \n",
       "1     False  \n",
       "2     False  \n",
       "3     False  \n",
       "4     False  "
      ]
     },
     "execution_count": 7,
     "metadata": {},
     "output_type": "execute_result"
    }
   ],
   "source": [
    "df_add_negative.head()"
   ]
  },
  {
   "cell_type": "code",
   "execution_count": 8,
   "metadata": {},
   "outputs": [
    {
     "data": {
      "text/html": [
       "<div>\n",
       "<style scoped>\n",
       "    .dataframe tbody tr th:only-of-type {\n",
       "        vertical-align: middle;\n",
       "    }\n",
       "\n",
       "    .dataframe tbody tr th {\n",
       "        vertical-align: top;\n",
       "    }\n",
       "\n",
       "    .dataframe thead th {\n",
       "        text-align: right;\n",
       "    }\n",
       "</style>\n",
       "<table border=\"1\" class=\"dataframe\">\n",
       "  <thead>\n",
       "    <tr style=\"text-align: right;\">\n",
       "      <th></th>\n",
       "      <th>resume_seq</th>\n",
       "      <th>interacted_iid</th>\n",
       "      <th>negative_sampling</th>\n",
       "    </tr>\n",
       "  </thead>\n",
       "  <tbody>\n",
       "    <tr>\n",
       "      <th>0</th>\n",
       "      <td>U00001</td>\n",
       "      <td>{R05288, R04536, R05210, R06065}</td>\n",
       "      <td>[R00542, R05035, R04114, R04944]</td>\n",
       "    </tr>\n",
       "    <tr>\n",
       "      <th>1</th>\n",
       "      <td>U00002</td>\n",
       "      <td>{R01960, R04588, R02946, R01103, R06019, R0234...</td>\n",
       "      <td>[R02434, R05161, R04951, R06517, R04494, R0595...</td>\n",
       "    </tr>\n",
       "    <tr>\n",
       "      <th>2</th>\n",
       "      <td>U00003</td>\n",
       "      <td>{R04918, R01460, R03301}</td>\n",
       "      <td>[R03813, R01882, R01573]</td>\n",
       "    </tr>\n",
       "    <tr>\n",
       "      <th>3</th>\n",
       "      <td>U00004</td>\n",
       "      <td>{R04166, R01747, R02003, R01825, R04891, R0031...</td>\n",
       "      <td>[R02514, R03893, R05954, R04241, R06158, R0329...</td>\n",
       "    </tr>\n",
       "    <tr>\n",
       "      <th>4</th>\n",
       "      <td>U00005</td>\n",
       "      <td>{R03914, R00374, R00832}</td>\n",
       "      <td>[R05556, R06415, R01395]</td>\n",
       "    </tr>\n",
       "  </tbody>\n",
       "</table>\n",
       "</div>"
      ],
      "text/plain": [
       "  resume_seq                                     interacted_iid  \\\n",
       "0     U00001                   {R05288, R04536, R05210, R06065}   \n",
       "1     U00002  {R01960, R04588, R02946, R01103, R06019, R0234...   \n",
       "2     U00003                           {R04918, R01460, R03301}   \n",
       "3     U00004  {R04166, R01747, R02003, R01825, R04891, R0031...   \n",
       "4     U00005                           {R03914, R00374, R00832}   \n",
       "\n",
       "                                   negative_sampling  \n",
       "0                   [R00542, R05035, R04114, R04944]  \n",
       "1  [R02434, R05161, R04951, R06517, R04494, R0595...  \n",
       "2                           [R03813, R01882, R01573]  \n",
       "3  [R02514, R03893, R05954, R04241, R06158, R0329...  \n",
       "4                           [R05556, R06415, R01395]  "
      ]
     },
     "execution_count": 8,
     "metadata": {},
     "output_type": "execute_result"
    }
   ],
   "source": [
    "df_add_negative[['resume_seq','interacted_iid', 'negative_sampling']].head()"
   ]
  },
  {
   "cell_type": "code",
   "execution_count": 9,
   "metadata": {},
   "outputs": [
    {
     "name": "stdout",
     "output_type": "stream",
     "text": [
      "(57946, 3)\n"
     ]
    },
    {
     "data": {
      "text/html": [
       "<div>\n",
       "<style scoped>\n",
       "    .dataframe tbody tr th:only-of-type {\n",
       "        vertical-align: middle;\n",
       "    }\n",
       "\n",
       "    .dataframe tbody tr th {\n",
       "        vertical-align: top;\n",
       "    }\n",
       "\n",
       "    .dataframe thead th {\n",
       "        text-align: right;\n",
       "    }\n",
       "</style>\n",
       "<table border=\"1\" class=\"dataframe\">\n",
       "  <thead>\n",
       "    <tr style=\"text-align: right;\">\n",
       "      <th></th>\n",
       "      <th>resume_seq</th>\n",
       "      <th>recruitment_seq</th>\n",
       "      <th>target</th>\n",
       "    </tr>\n",
       "  </thead>\n",
       "  <tbody>\n",
       "    <tr>\n",
       "      <th>0</th>\n",
       "      <td>U00001</td>\n",
       "      <td>R05288</td>\n",
       "      <td>1</td>\n",
       "    </tr>\n",
       "    <tr>\n",
       "      <th>1</th>\n",
       "      <td>U00001</td>\n",
       "      <td>R04536</td>\n",
       "      <td>1</td>\n",
       "    </tr>\n",
       "    <tr>\n",
       "      <th>2</th>\n",
       "      <td>U00001</td>\n",
       "      <td>R05210</td>\n",
       "      <td>1</td>\n",
       "    </tr>\n",
       "    <tr>\n",
       "      <th>3</th>\n",
       "      <td>U00001</td>\n",
       "      <td>R06065</td>\n",
       "      <td>1</td>\n",
       "    </tr>\n",
       "    <tr>\n",
       "      <th>4</th>\n",
       "      <td>U00002</td>\n",
       "      <td>R01960</td>\n",
       "      <td>1</td>\n",
       "    </tr>\n",
       "  </tbody>\n",
       "</table>\n",
       "</div>"
      ],
      "text/plain": [
       "  resume_seq recruitment_seq  target\n",
       "0     U00001          R05288       1\n",
       "1     U00001          R04536       1\n",
       "2     U00001          R05210       1\n",
       "3     U00001          R06065       1\n",
       "4     U00002          R01960       1"
      ]
     },
     "execution_count": 9,
     "metadata": {},
     "output_type": "execute_result"
    }
   ],
   "source": [
    "df_interacted = df_add_negative[['resume_seq', 'interacted_iid']].explode('interacted_iid').rename(\n",
    "        columns={'interacted_iid':'recruitment_seq'}\n",
    "    )\n",
    "df_interacted['target'] = 1\n",
    "df_interacted.reset_index(drop=True, inplace=True)\n",
    "\n",
    "print(df_interacted.shape)\n",
    "df_interacted.head()"
   ]
  },
  {
   "cell_type": "code",
   "execution_count": 10,
   "metadata": {},
   "outputs": [
    {
     "name": "stdout",
     "output_type": "stream",
     "text": [
      "(57946, 3)\n"
     ]
    },
    {
     "data": {
      "text/html": [
       "<div>\n",
       "<style scoped>\n",
       "    .dataframe tbody tr th:only-of-type {\n",
       "        vertical-align: middle;\n",
       "    }\n",
       "\n",
       "    .dataframe tbody tr th {\n",
       "        vertical-align: top;\n",
       "    }\n",
       "\n",
       "    .dataframe thead th {\n",
       "        text-align: right;\n",
       "    }\n",
       "</style>\n",
       "<table border=\"1\" class=\"dataframe\">\n",
       "  <thead>\n",
       "    <tr style=\"text-align: right;\">\n",
       "      <th></th>\n",
       "      <th>resume_seq</th>\n",
       "      <th>recruitment_seq</th>\n",
       "      <th>target</th>\n",
       "    </tr>\n",
       "  </thead>\n",
       "  <tbody>\n",
       "    <tr>\n",
       "      <th>0</th>\n",
       "      <td>U00001</td>\n",
       "      <td>R00542</td>\n",
       "      <td>0</td>\n",
       "    </tr>\n",
       "    <tr>\n",
       "      <th>1</th>\n",
       "      <td>U00001</td>\n",
       "      <td>R05035</td>\n",
       "      <td>0</td>\n",
       "    </tr>\n",
       "    <tr>\n",
       "      <th>2</th>\n",
       "      <td>U00001</td>\n",
       "      <td>R04114</td>\n",
       "      <td>0</td>\n",
       "    </tr>\n",
       "    <tr>\n",
       "      <th>3</th>\n",
       "      <td>U00001</td>\n",
       "      <td>R04944</td>\n",
       "      <td>0</td>\n",
       "    </tr>\n",
       "    <tr>\n",
       "      <th>4</th>\n",
       "      <td>U00002</td>\n",
       "      <td>R02434</td>\n",
       "      <td>0</td>\n",
       "    </tr>\n",
       "  </tbody>\n",
       "</table>\n",
       "</div>"
      ],
      "text/plain": [
       "  resume_seq recruitment_seq  target\n",
       "0     U00001          R00542       0\n",
       "1     U00001          R05035       0\n",
       "2     U00001          R04114       0\n",
       "3     U00001          R04944       0\n",
       "4     U00002          R02434       0"
      ]
     },
     "execution_count": 10,
     "metadata": {},
     "output_type": "execute_result"
    }
   ],
   "source": [
    "df_negatived = df_add_negative[['resume_seq', 'negative_sampling']].explode('negative_sampling').rename(\n",
    "        columns={'negative_sampling':'recruitment_seq'}\n",
    "    )\n",
    "df_negatived['target'] = 0\n",
    "df_negatived.reset_index(drop=True, inplace=True)\n",
    "\n",
    "print(df_negatived.shape)\n",
    "df_negatived.head()"
   ]
  },
  {
   "cell_type": "code",
   "execution_count": 11,
   "metadata": {},
   "outputs": [
    {
     "name": "stdout",
     "output_type": "stream",
     "text": [
      "(115892, 3)\n"
     ]
    },
    {
     "data": {
      "text/html": [
       "<div>\n",
       "<style scoped>\n",
       "    .dataframe tbody tr th:only-of-type {\n",
       "        vertical-align: middle;\n",
       "    }\n",
       "\n",
       "    .dataframe tbody tr th {\n",
       "        vertical-align: top;\n",
       "    }\n",
       "\n",
       "    .dataframe thead th {\n",
       "        text-align: right;\n",
       "    }\n",
       "</style>\n",
       "<table border=\"1\" class=\"dataframe\">\n",
       "  <thead>\n",
       "    <tr style=\"text-align: right;\">\n",
       "      <th></th>\n",
       "      <th>resume_seq</th>\n",
       "      <th>recruitment_seq</th>\n",
       "      <th>target</th>\n",
       "    </tr>\n",
       "  </thead>\n",
       "  <tbody>\n",
       "    <tr>\n",
       "      <th>0</th>\n",
       "      <td>U00001</td>\n",
       "      <td>R05288</td>\n",
       "      <td>1</td>\n",
       "    </tr>\n",
       "    <tr>\n",
       "      <th>1</th>\n",
       "      <td>U00001</td>\n",
       "      <td>R04536</td>\n",
       "      <td>1</td>\n",
       "    </tr>\n",
       "    <tr>\n",
       "      <th>2</th>\n",
       "      <td>U00001</td>\n",
       "      <td>R05210</td>\n",
       "      <td>1</td>\n",
       "    </tr>\n",
       "    <tr>\n",
       "      <th>3</th>\n",
       "      <td>U00001</td>\n",
       "      <td>R06065</td>\n",
       "      <td>1</td>\n",
       "    </tr>\n",
       "    <tr>\n",
       "      <th>4</th>\n",
       "      <td>U00002</td>\n",
       "      <td>R01960</td>\n",
       "      <td>1</td>\n",
       "    </tr>\n",
       "  </tbody>\n",
       "</table>\n",
       "</div>"
      ],
      "text/plain": [
       "  resume_seq recruitment_seq  target\n",
       "0     U00001          R05288       1\n",
       "1     U00001          R04536       1\n",
       "2     U00001          R05210       1\n",
       "3     U00001          R06065       1\n",
       "4     U00002          R01960       1"
      ]
     },
     "execution_count": 11,
     "metadata": {},
     "output_type": "execute_result"
    }
   ],
   "source": [
    "df_concat = pd.concat([df_interacted, df_negatived], axis=0)\n",
    "\n",
    "print(df_concat.shape)\n",
    "df_concat.head()"
   ]
  },
  {
   "cell_type": "code",
   "execution_count": 12,
   "metadata": {},
   "outputs": [
    {
     "name": "stdout",
     "output_type": "stream",
     "text": [
      "(115892, 3)\n"
     ]
    },
    {
     "data": {
      "text/html": [
       "<div>\n",
       "<style scoped>\n",
       "    .dataframe tbody tr th:only-of-type {\n",
       "        vertical-align: middle;\n",
       "    }\n",
       "\n",
       "    .dataframe tbody tr th {\n",
       "        vertical-align: top;\n",
       "    }\n",
       "\n",
       "    .dataframe thead th {\n",
       "        text-align: right;\n",
       "    }\n",
       "</style>\n",
       "<table border=\"1\" class=\"dataframe\">\n",
       "  <thead>\n",
       "    <tr style=\"text-align: right;\">\n",
       "      <th></th>\n",
       "      <th>resume_seq</th>\n",
       "      <th>recruitment_seq</th>\n",
       "      <th>target</th>\n",
       "    </tr>\n",
       "  </thead>\n",
       "  <tbody>\n",
       "    <tr>\n",
       "      <th>0</th>\n",
       "      <td>U07023</td>\n",
       "      <td>R00863</td>\n",
       "      <td>1</td>\n",
       "    </tr>\n",
       "    <tr>\n",
       "      <th>1</th>\n",
       "      <td>U03442</td>\n",
       "      <td>R02686</td>\n",
       "      <td>0</td>\n",
       "    </tr>\n",
       "    <tr>\n",
       "      <th>2</th>\n",
       "      <td>U03708</td>\n",
       "      <td>R04387</td>\n",
       "      <td>0</td>\n",
       "    </tr>\n",
       "    <tr>\n",
       "      <th>3</th>\n",
       "      <td>U02065</td>\n",
       "      <td>R05880</td>\n",
       "      <td>0</td>\n",
       "    </tr>\n",
       "    <tr>\n",
       "      <th>4</th>\n",
       "      <td>U01147</td>\n",
       "      <td>R05959</td>\n",
       "      <td>0</td>\n",
       "    </tr>\n",
       "  </tbody>\n",
       "</table>\n",
       "</div>"
      ],
      "text/plain": [
       "  resume_seq recruitment_seq  target\n",
       "0     U07023          R00863       1\n",
       "1     U03442          R02686       0\n",
       "2     U03708          R04387       0\n",
       "3     U02065          R05880       0\n",
       "4     U01147          R05959       0"
      ]
     },
     "execution_count": 12,
     "metadata": {},
     "output_type": "execute_result"
    }
   ],
   "source": [
    "df_shuffle = df_concat.sample(frac=1).reset_index(drop=True)\n",
    "\n",
    "print(df_shuffle.shape)\n",
    "df_shuffle.head()"
   ]
  },
  {
   "cell_type": "code",
   "execution_count": 13,
   "metadata": {},
   "outputs": [
    {
     "data": {
      "text/plain": [
       "target\n",
       "1    57946\n",
       "0    57946\n",
       "Name: count, dtype: int64"
      ]
     },
     "execution_count": 13,
     "metadata": {},
     "output_type": "execute_result"
    }
   ],
   "source": [
    "df_shuffle['target'].value_counts()"
   ]
  },
  {
   "cell_type": "code",
   "execution_count": 14,
   "metadata": {},
   "outputs": [
    {
     "data": {
      "text/plain": [
       "recruitment_seq\n",
       "R03237    89\n",
       "R01214    78\n",
       "R00944    76\n",
       "R00056    72\n",
       "R00773    70\n",
       "          ..\n",
       "R04475     5\n",
       "R04734     5\n",
       "R05176     5\n",
       "R01029     5\n",
       "R04611     4\n",
       "Name: count, Length: 6695, dtype: int64"
      ]
     },
     "execution_count": 14,
     "metadata": {},
     "output_type": "execute_result"
    }
   ],
   "source": [
    "df_shuffle['recruitment_seq'].value_counts()"
   ]
  },
  {
   "cell_type": "code",
   "execution_count": 15,
   "metadata": {},
   "outputs": [
    {
     "data": {
      "text/plain": [
       "count     115892\n",
       "unique      6695\n",
       "top       R03237\n",
       "freq          89\n",
       "Name: recruitment_seq, dtype: object"
      ]
     },
     "execution_count": 15,
     "metadata": {},
     "output_type": "execute_result"
    }
   ],
   "source": [
    "df_shuffle['recruitment_seq'].describe()"
   ]
  },
  {
   "cell_type": "code",
   "execution_count": null,
   "metadata": {},
   "outputs": [],
   "source": []
  }
 ],
 "metadata": {
  "kernelspec": {
   "display_name": ".venv",
   "language": "python",
   "name": "python3"
  },
  "language_info": {
   "codemirror_mode": {
    "name": "ipython",
    "version": 3
   },
   "file_extension": ".py",
   "mimetype": "text/x-python",
   "name": "python",
   "nbconvert_exporter": "python",
   "pygments_lexer": "ipython3",
   "version": "3.11.5"
  }
 },
 "nbformat": 4,
 "nbformat_minor": 2
}
