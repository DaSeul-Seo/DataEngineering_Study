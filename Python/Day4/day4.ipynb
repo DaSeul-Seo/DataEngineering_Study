{
 "cells": [
  {
   "cell_type": "markdown",
   "metadata": {},
   "source": [
    "## 함수 (Function)"
   ]
  },
  {
   "cell_type": "code",
   "execution_count": null,
   "metadata": {},
   "outputs": [],
   "source": [
    "'''\n",
    "<함수구조>\n",
    "def 함수명(입력변수):\n",
    "\t수행할 프로그램1\n",
    "\t수행할 프로그램2\n",
    "\treturn 출력변수\n",
    "'''\n",
    "\n",
    "'''\n",
    "<함수생성>\n",
    "1. 입력변수 x, 출력변수 x\n",
    "2. 입력변수 O, 출력변수 x\n",
    "3. 입력변수 x, 출력변수 O\n",
    "4. 입력변수 O, 출력변수 O\n",
    "'''\n"
   ]
  },
  {
   "cell_type": "code",
   "execution_count": 3,
   "metadata": {},
   "outputs": [
    {
     "data": {
      "text/plain": [
       "9"
      ]
     },
     "execution_count": 3,
     "metadata": {},
     "output_type": "execute_result"
    }
   ],
   "source": [
    "# 람다식\n",
    "square_lambda = lambda x:x**2  \n",
    "\n",
    "# 함수\n",
    "def square(x):\n",
    "    return x**2\n",
    "\n",
    "square(3)"
   ]
  },
  {
   "cell_type": "code",
   "execution_count": 6,
   "metadata": {},
   "outputs": [
    {
     "data": {
      "text/plain": [
       "[2, 4, 6, 8]"
      ]
     },
     "execution_count": 6,
     "metadata": {},
     "output_type": "execute_result"
    }
   ],
   "source": [
    "# 람다식\n",
    "make_even = lambda x: [i for i in x if i%2 == 0]\n",
    "make_even([1, 2, 3, 4, 5, 6, 7, 8])\n",
    "\n",
    "def make(x):\n",
    "    list = []\n",
    "    for i in x:\n",
    "        if (i % 2 == 0):\n",
    "            list.append(i)\n",
    "    return list\n",
    "\n",
    "make([1, 2, 3, 4, 5, 6, 7, 8])"
   ]
  },
  {
   "cell_type": "code",
   "execution_count": 13,
   "metadata": {},
   "outputs": [
    {
     "name": "stdout",
     "output_type": "stream",
     "text": [
      "<function func_out.<locals>.func_in at 0x000002E61E123380>\n"
     ]
    },
    {
     "data": {
      "text/plain": [
       "15"
      ]
     },
     "execution_count": 13,
     "metadata": {},
     "output_type": "execute_result"
    }
   ],
   "source": [
    "# 외부에서 func_in 함수 사용 가능\n",
    "def func_out(out_param):\n",
    "    a = 10\n",
    "    def func_in():\n",
    "      return a + out_param \n",
    "    return func_in\n",
    "\n",
    "asd = func_out(5)\n",
    "print(asd)\n",
    "asd()  # 이때 내부함수 실행"
   ]
  },
  {
   "cell_type": "code",
   "execution_count": 10,
   "metadata": {},
   "outputs": [
    {
     "name": "stdout",
     "output_type": "stream",
     "text": [
      "15\n"
     ]
    }
   ],
   "source": [
    "# 외부에서 func_in 함수 사용 불가능\n",
    "# 내부함수를 함수 내에서 실행\n",
    "def func_out(out_param):\n",
    "    a = 10\n",
    "    def func_in():\n",
    "      return a + out_param \n",
    "    return func_in()\n",
    "\n",
    "asd = func_out(5)\n",
    "print(asd)"
   ]
  },
  {
   "cell_type": "markdown",
   "metadata": {},
   "source": [
    "### 소수 구별\n",
    "프로그래머 X는 입력값을 숫자를 입력하거나 문자를 입력하려고 하는데,\n",
    "\n",
    "- 만약 숫자를 입력하였으면 그것이 정수인지, 소수인지 구별하는 프로그램을 짜보도록 하고,\n",
    "- 만약 문자를 입력하였으면 숫자가 아니므로 math error를 표시하게 하라."
   ]
  },
  {
   "cell_type": "code",
   "execution_count": 20,
   "metadata": {},
   "outputs": [
    {
     "name": "stdout",
     "output_type": "stream",
     "text": [
      "입력받은 숫자는 소수입니다.\n",
      "\n"
     ]
    }
   ],
   "source": [
    "def func(input_value):\n",
    "    result = \"\"\n",
    "    if (input_value == 1 or input_value == 2):\n",
    "        result = \"입력받은 값은 소수가 아닙니다.\"\n",
    "    for n in range(2,input_value):\n",
    "        if (input_value % n == 0):\n",
    "            result = \"입력받은 숫자는 소수가 아닙니다.\"\n",
    "            break\n",
    "    else:\n",
    "        result = \"입력받은 숫자는 소수입니다.\"\n",
    "    return result\n",
    "\n",
    "try:\n",
    "    \n",
    "    input_value = input(\"숫자를 입력해주세요: \")\n",
    "    input_value = int(input_value)\n",
    "    result = func(input_value)\n",
    "except:\n",
    "    result = \"math error\"\n",
    "finally:\n",
    "    print(result)\n"
   ]
  },
  {
   "cell_type": "markdown",
   "metadata": {},
   "source": [
    "### Up&Down 숫자 맞추기\n",
    "- 컴퓨터가 1 ~ 100 중 랜덤으로 숫자를 정합니다.\n",
    "- 입력한 숫자보다 정답이 크면, \"UP\" 출력,\n",
    "- 입력한 숫자보다 정답이 작으면, \"DOWN\" 출력,\n",
    "- 정답을 맞추면, \"정답\" 출력"
   ]
  },
  {
   "cell_type": "code",
   "execution_count": 24,
   "metadata": {},
   "outputs": [
    {
     "name": "stdout",
     "output_type": "stream",
     "text": [
      "50 : Down\n",
      "25 : Up\n",
      "35 : Up\n",
      "40 : Up\n",
      "45 : Down\n",
      "42 : 정답\n"
     ]
    }
   ],
   "source": [
    "import random\n",
    "\n",
    "# 컴퓨터 랜덤 숫자 1 ~ 100\n",
    "random_int = random.randint(1,100)\n",
    "is_success = True\n",
    "result  = \"\"\n",
    "\n",
    "# 숫자 체크 함수\n",
    "def checkInt(input_value):\n",
    "    if (input_value == random_int):\n",
    "        return (\"정답\", False)\n",
    "    elif (input_value > random_int):\n",
    "        return (\"Down\", True)\n",
    "    else:\n",
    "        return (\"Up\", True)\n",
    "\n",
    "\n",
    "while is_success:\n",
    "    try:\n",
    "        input_value = input(\"숫자를 입력해 주세요.\")\n",
    "        input_value = int(input_value)\n",
    "        result, is_success = checkInt(input_value)\n",
    "        print(f\"{input_value} : {result}\")\n",
    "    except:\n",
    "        result = \"숫자를 입하여 주세요.\"\n",
    "        print(result)"
   ]
  },
  {
   "cell_type": "markdown",
   "metadata": {},
   "source": [
    "### Up&Down 숫자 맞추기 - 강사님 풀이"
   ]
  },
  {
   "cell_type": "code",
   "execution_count": null,
   "metadata": {},
   "outputs": [],
   "source": [
    "def fnc_ckeck(answer, correct, trial_num):\n",
    "  result = False\n",
    "  if not answer.isdigit():\n",
    "    print(\"숫자만 입력해주세요.\")\n",
    "    return result\n",
    "\n",
    "  answer = int(answer)\n",
    "  if  answer == correct:\n",
    "    print(f\"정답입니다. 입력한 횟수: {trial_num}\")\n",
    "    result = True\n",
    "  elif answer > correct:\n",
    "    print(\"DOWN\")\n",
    "  else:\n",
    "    print(\"UP\")\n",
    "\n",
    "  return result\n",
    "\n",
    "import random\n",
    "\n",
    "def run(p_range=100):\n",
    "  try:\n",
    "    trial_num = 0\n",
    "    correct = random.randint(1,p_range)\n",
    "    print(f'correct: {correct}')\n",
    "\n",
    "    while True:\n",
    "      trial_num += 1\n",
    "      answer = input(\"1~100 중 하나의 숫자를 입력해주세요 : \")\n",
    "      if fnc_ckeck(answer, correct, trial_num):\n",
    "        break\n",
    "  except Exception as e:\n",
    "    print(f'Error: {str(e)}')"
   ]
  },
  {
   "cell_type": "markdown",
   "metadata": {},
   "source": [
    "### 방탈출 게임\n",
    "- 비밀번호는 3자리로 한다.\n",
    "- 비밀번호를 입력하게 한다.\n",
    "- 비밀번호가 틀리면 처음부터 다시 입력하게 한다.\n",
    "- 비밀번호가 맞으면 성공 메시지를 출력한다."
   ]
  },
  {
   "cell_type": "markdown",
   "metadata": {},
   "source": [
    "#### sample vs choices\n",
    "- sample: 비복원 추출\n",
    "- choices: 복원 추출"
   ]
  },
  {
   "cell_type": "code",
   "execution_count": null,
   "metadata": {},
   "outputs": [],
   "source": [
    "import random\n",
    "\n",
    "lst = ['사과', '복숭아', '포도']\n",
    "\n",
    "print(random.sample(lst, k=3))\n",
    "print(random.choices(lst, k=5))\n",
    "\n",
    "'''\n",
    "['사과', '복숭아', '포도']\n",
    "['사과', '복숭아', '복숭아', '사과', '포도']\n",
    "'''"
   ]
  },
  {
   "cell_type": "code",
   "execution_count": 18,
   "metadata": {},
   "outputs": [
    {
     "name": "stdout",
     "output_type": "stream",
     "text": [
      "910\n",
      "틀림\n",
      "성공\n"
     ]
    }
   ],
   "source": [
    "import random\n",
    "\n",
    "# 비밀번호 3자리 랜덤으로 설정 (choices)\n",
    "def mkPassword():\n",
    "    list = [0, 1, 2, 3, 4, 5, 6, 7, 8, 9]\n",
    "    password = random.choices(list, k=3)\n",
    "    password = \"\".join(map(str, password))\n",
    "    print(password)\n",
    "    return password\n",
    "\n",
    "# 비밀번호 매칭 함수\n",
    "def checkNum(input_value):\n",
    "    if not input_value.isdigit():\n",
    "        print(\"숫자만 입력해 주세요.\")\n",
    "        return 1\n",
    "    elif len(input_value) != 3:\n",
    "        print( \"3자리를 입력하여 주세요.\")\n",
    "        return 1\n",
    "    elif input_value == passwd:\n",
    "        print(\"성공\")\n",
    "        return 0\n",
    "    else:\n",
    "        print(\"틀림\")\n",
    "        return 1\n",
    "\n",
    "# 변수 설정\n",
    "result = 0\n",
    "passwd = mkPassword()\n",
    "\n",
    "# 사용자 입력\n",
    "while True:\n",
    "    input_value = input(\"비밀번호를 입력하여 주세요.\")\n",
    "    result = checkNum(input_value)\n",
    "    if (result == 0):\n",
    "        break\n"
   ]
  },
  {
   "cell_type": "markdown",
   "metadata": {},
   "source": [
    "### 방탈출 게임 - 강사님 풀이"
   ]
  },
  {
   "cell_type": "code",
   "execution_count": null,
   "metadata": {},
   "outputs": [],
   "source": [
    "def make_password():\n",
    "  lst = [ str(i) for i in range(10) ]\n",
    "\n",
    "  password = random.sample(lst, k=3)\n",
    "  password = \"\".join(password)\n",
    "  return password\n",
    "\n",
    "def show_msg(answer, password):\n",
    "  # 입력값 검증\n",
    "  if len(answer) != 3:\n",
    "      print(\"비밀번호 길이가 틀립니다.\")\n",
    "  elif not answer.isdigit():\n",
    "      print(\"숫자만 입력해주세요.\")\n",
    "\n",
    "  # 정답 비교\n",
    "  elif answer == password:\n",
    "      print('성공')\n",
    "  else:\n",
    "      print('틀림')\n",
    "\n",
    "def run():\n",
    "  password = make_password()      # 출력변수가 존재(return) / 입력변수 X\n",
    "  print(f'password: {password}')\n",
    "\n",
    "# answer와 password를 비교해서 메세지를 나타내는 로직\n",
    "  answer = input()                # 외부에서 입력 값을 받아 answer변수에 담는 역할\n",
    "  show_msg(answer, password)      # 출변변수 없음 / 입력변수 존재(answer, password)"
   ]
  },
  {
   "cell_type": "markdown",
   "metadata": {},
   "source": [
    "### 숫자 세기 알고리즘\n",
    "- 0부터 9999까지 8을 포함하지 않은 수는 총 몇개일까?\n",
    "- 8, 108, 888, 998 등은 8을 포함하는 수입니다.\n",
    "- 111, 299, 437 등은 8을 포함하지 않은 수입니다."
   ]
  },
  {
   "cell_type": "code",
   "execution_count": 5,
   "metadata": {},
   "outputs": [
    {
     "name": "stdout",
     "output_type": "stream",
     "text": [
      "0 - 9까지 숫자를 입력하세요.\n",
      "6561\n"
     ]
    }
   ],
   "source": [
    "def check_num(input_num):\n",
    "    rst = 0\n",
    "    list = range(10000)    # 0 - 9999까지 리스트\n",
    "    for i in list:         # 리스트를 돌면서 input_num이 포함되지 않는 숫자 세기\n",
    "        if input_num not in str(i):\n",
    "            rst += 1\n",
    "    return rst\n",
    "\n",
    "while True:\n",
    "    try:\n",
    "        input_num = input(\"0 - 9까지 숫자를 입력하세요.\")\n",
    "        input_value = int(input_num)\n",
    "        result = check_num(input_num)\n",
    "        print(result)\n",
    "        break\n",
    "    except:\n",
    "        print(\"0 - 9까지 숫자를 입력하세요.\")"
   ]
  },
  {
   "cell_type": "markdown",
   "metadata": {},
   "source": [
    "### 숫자 세기 알고리즘 - 강사님 풀이"
   ]
  },
  {
   "cell_type": "code",
   "execution_count": 26,
   "metadata": {},
   "outputs": [
    {
     "name": "stdout",
     "output_type": "stream",
     "text": [
      "6561\n"
     ]
    }
   ],
   "source": [
    "def run(num, include=False):\n",
    "    try:\n",
    "        if include:\n",
    "            lst = [ i for i in range(10000) if str(i).count(str(num)) ]\n",
    "        else:\n",
    "            lst = [ i for i in range(10000) if not str(i).count(str(num)) ]\n",
    "\n",
    "        print(len(lst))\n",
    "    except Exception as e:\n",
    "        print(f'Error: {str(e)}')\n",
    "\n",
    "# run(8, include=True)\n",
    "run(8)"
   ]
  },
  {
   "cell_type": "code",
   "execution_count": null,
   "metadata": {},
   "outputs": [],
   "source": []
  }
 ],
 "metadata": {
  "kernelspec": {
   "display_name": ".venv",
   "language": "python",
   "name": "python3"
  },
  "language_info": {
   "codemirror_mode": {
    "name": "ipython",
    "version": 3
   },
   "file_extension": ".py",
   "mimetype": "text/x-python",
   "name": "python",
   "nbconvert_exporter": "python",
   "pygments_lexer": "ipython3",
   "version": "3.11.5"
  },
  "orig_nbformat": 4
 },
 "nbformat": 4,
 "nbformat_minor": 2
}
