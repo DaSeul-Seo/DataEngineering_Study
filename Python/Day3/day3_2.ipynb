{
 "cells": [
  {
   "cell_type": "markdown",
   "metadata": {},
   "source": [
    "### 문제 - 가위바위보\n",
    "- 사용자 입력과 random함수를 사용하여, 사용자(User)와 컴퓨터가 대결하는 가위 바위 보 게임을 만들어보자.\n",
    "- 입력: [문자열] \"가위\", \"바위\" 혹은 \"보\" 출력: [문자열] 결과 반환\n"
   ]
  },
  {
   "cell_type": "code",
   "execution_count": 9,
   "metadata": {},
   "outputs": [
    {
     "name": "stdout",
     "output_type": "stream",
     "text": [
      "컴퓨터 승, 컴퓨터 : 바위\n"
     ]
    }
   ],
   "source": [
    "import random\n",
    "\n",
    "games = [\"가위\", \"바위\", \"보\"]\n",
    "\n",
    "user_input = input(\"가위바위보 중 하나만 입력해 주세요.\")\n",
    "computer_rst = random.choice(games)\n",
    "pass_rst = True\n",
    "\n",
    "# 사용자 입력 체크 확인\n",
    "if user_input not in games:\n",
    "    print(\"잘못입력하였습니다. 가위,바위,보 중 하나만 입력해 주세요.\")\n",
    "elif user_input == computer_rst:\n",
    "    print(f\"결과 : 무승부, 컴퓨터 : {computer_rst}\")\n",
    "elif user_input == \"가위\":\n",
    "    if computer_rst == \"보\":\n",
    "        print(f\"사용자 승, 컴퓨터 : {computer_rst}\")\n",
    "    else:\n",
    "        print(f\"컴퓨터 승, 컴퓨터 : {computer_rst}\")\n",
    "elif user_input == \"바위\":\n",
    "    if computer_rst == \"가위\":\n",
    "        print(f\"사용자 승, 컴퓨터 : {computer_rst}\")\n",
    "    else:\n",
    "        print(f\"컴퓨터 승, 컴퓨터 : {computer_rst}\")\n",
    "elif user_input == \"보\":\n",
    "    if computer_rst == \"바위\":\n",
    "        print(f\"사용자 승, 컴퓨터 : {computer_rst}\")\n",
    "    else:\n",
    "        print(f\"컴퓨터 승, 컴퓨터 : {computer_rst}\")"
   ]
  },
  {
   "cell_type": "markdown",
   "metadata": {},
   "source": [
    "### 가위바위보 - 강사님 풀이"
   ]
  },
  {
   "cell_type": "code",
   "execution_count": null,
   "metadata": {},
   "outputs": [],
   "source": [
    "import random\n",
    "\n",
    "가위바위보게임 = {\n",
    "    '가위': {\n",
    "        '바위':'패',\n",
    "        '보':'승'\n",
    "    },\n",
    "    '바위': {\n",
    "        '가위':'승',\n",
    "        '보':'패'\n",
    "    },\n",
    "    '보': {\n",
    "        '바위':'승',\n",
    "        '가위':'패'\n",
    "    }\n",
    "}\n",
    "\n",
    "가위바이보 = ['가위', '바위', '보']\n",
    "컴퓨터 = random.choice(가위바이보)\n",
    "\n",
    "answer = input(\"가위바위보 중 하나를 입력해주세요: \")\n",
    "answer = answer.replace(' ','')\n",
    "if answer not in 가위바이보:\n",
    "    print(\"잘 못 입력하였습니다.\")\n",
    "elif answer == 컴퓨터:\n",
    "    print(\"무승부입니다.\")\n",
    "else:\n",
    "    print(가위바위보게임[answer][컴퓨터])\n",
    "\n",
    "print(f'컴퓨터: {컴퓨터}')"
   ]
  }
 ],
 "metadata": {
  "kernelspec": {
   "display_name": ".venv",
   "language": "python",
   "name": "python3"
  },
  "language_info": {
   "codemirror_mode": {
    "name": "ipython",
    "version": 3
   },
   "file_extension": ".py",
   "mimetype": "text/x-python",
   "name": "python",
   "nbconvert_exporter": "python",
   "pygments_lexer": "ipython3",
   "version": "3.11.5"
  },
  "orig_nbformat": 4
 },
 "nbformat": 4,
 "nbformat_minor": 2
}
