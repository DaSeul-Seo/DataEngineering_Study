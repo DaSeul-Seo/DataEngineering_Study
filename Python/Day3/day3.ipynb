{
 "cells": [
  {
   "cell_type": "markdown",
   "metadata": {},
   "source": [
    "### 제어문"
   ]
  },
  {
   "cell_type": "markdown",
   "metadata": {},
   "source": [
    "조건문\n",
    "- 조건에 따라 처리를 한다."
   ]
  },
  {
   "cell_type": "code",
   "execution_count": null,
   "metadata": {},
   "outputs": [],
   "source": [
    "'''\n",
    "# 방법1\n",
    "if 조건문:\n",
    "\t# 조건에 맞을 경우 실행\n",
    "else:\n",
    "\t# 조건문에 맞지 않을 경우 실행\n",
    "\n",
    "# 방법2\n",
    "조건에 맞을 경우 if 조건문 else 조건문에 맞지 않을 경우\n",
    "'''"
   ]
  },
  {
   "cell_type": "code",
   "execution_count": 2,
   "metadata": {},
   "outputs": [
    {
     "name": "stdout",
     "output_type": "stream",
     "text": [
      "~~~~~\n"
     ]
    }
   ],
   "source": [
    "a = 5\n",
    "if a > 3:\n",
    "    print(\"~~~~~\")\n",
    "else:\n",
    "    print(\"@@@@\")"
   ]
  },
  {
   "cell_type": "code",
   "execution_count": 3,
   "metadata": {},
   "outputs": [
    {
     "name": "stdout",
     "output_type": "stream",
     "text": [
      "-----\n"
     ]
    }
   ],
   "source": [
    "a = 5\n",
    "if a > 3:\n",
    "    print(\"-----\")\n",
    "else:\n",
    "    print(\"@@@\")"
   ]
  },
  {
   "cell_type": "code",
   "execution_count": 4,
   "metadata": {},
   "outputs": [
    {
     "name": "stdout",
     "output_type": "stream",
     "text": [
      "~~~~\n"
     ]
    }
   ],
   "source": [
    "a = 5\n",
    "print(\"~~~~\") if a > 3 else print(\"@@@@\")"
   ]
  },
  {
   "cell_type": "markdown",
   "metadata": {},
   "source": [
    "다중 if"
   ]
  },
  {
   "cell_type": "code",
   "execution_count": 5,
   "metadata": {},
   "outputs": [
    {
     "name": "stdout",
     "output_type": "stream",
     "text": [
      "22222\n"
     ]
    }
   ],
   "source": [
    "if a > 10: # 10보다 큰 경우\n",
    "  print(111111)\n",
    "elif a > 3: # 3보다 큰 경우\n",
    "  print(22222)\n",
    "else: # 모든 조건이 맞지 않은 경우 \n",
    "  print(33333)"
   ]
  },
  {
   "cell_type": "markdown",
   "metadata": {},
   "source": [
    "퀴즈"
   ]
  },
  {
   "cell_type": "code",
   "execution_count": 9,
   "metadata": {},
   "outputs": [
    {
     "name": "stdout",
     "output_type": "stream",
     "text": [
      "str1 길이가 a보다 큼\n"
     ]
    }
   ],
   "source": [
    "str1 = \"코딩좋아^^\"\n",
    "endWord = str1.count('^')\n",
    "\n",
    "# 조건1 : str1 길이가 a보다 큰가? -> print : str1 길이가 a보다 큼\n",
    "# 조건2 : str1에 '^'의 갯수가 a보다 큰가? -> print : str1의 '^'의 갯수가 a보다 큼\n",
    "# else : print format을 이용해서 글을 작성 -> 'a의 값은 {}입니다.'\n",
    "if len(str1) > a:\n",
    "    print(\"str1 길이가 a보다 큼\")\n",
    "elif endWord > a:\n",
    "    print(\"str1의 '^'의 갯수가 a보다 큼\")\n",
    "else:\n",
    "    print(\"a의 값은 {0}입니다.\", a)"
   ]
  },
  {
   "cell_type": "code",
   "execution_count": 11,
   "metadata": {},
   "outputs": [
    {
     "name": "stdout",
     "output_type": "stream",
     "text": [
      "1111\n"
     ]
    }
   ],
   "source": [
    "a = []\n",
    "\n",
    "if a:\n",
    "    print(1111)\n",
    "else:\n",
    "    print(2222)"
   ]
  },
  {
   "cell_type": "markdown",
   "metadata": {},
   "source": [
    "비교연산자\n",
    "- - <, >, ==, ≠, ≥, ≤\n",
    "- or, and, not\n",
    "- in"
   ]
  },
  {
   "cell_type": "markdown",
   "metadata": {},
   "source": [
    "### 반복문"
   ]
  },
  {
   "cell_type": "markdown",
   "metadata": {},
   "source": [
    "for\n",
    "- list, tuple, str과 같이 인덱싱을 할 수 있는 자료형 이용\n",
    "- dict는 인덱싱이 아닌 key, value이기에 안됨\n",
    "\n",
    "- pass : pass : 계속 진행\n",
    "    - 제어문 안에 쓸 내용이 없는데 코드를 진행해야 하는 경우 사용\n",
    "- break : loop를 나간다.\n",
    "- continue : 다음 순서로 넘어간다."
   ]
  },
  {
   "cell_type": "code",
   "execution_count": 12,
   "metadata": {},
   "outputs": [
    {
     "name": "stdout",
     "output_type": "stream",
     "text": [
      "1\n",
      "2\n",
      "3\n"
     ]
    },
    {
     "data": {
      "text/plain": [
       "[1, 2, 3]"
      ]
     },
     "execution_count": 12,
     "metadata": {},
     "output_type": "execute_result"
    }
   ],
   "source": [
    "lst = [1, 2, 3]\n",
    "\n",
    "# 방법1\n",
    "for i in lst:\n",
    "  print(i)\n",
    "\n",
    "# 방법2\n",
    "[ i for i in lst ]"
   ]
  },
  {
   "cell_type": "code",
   "execution_count": 13,
   "metadata": {},
   "outputs": [],
   "source": [
    "lst = [1, 2, 3, 4, 5, 6, 7]"
   ]
  },
  {
   "cell_type": "code",
   "execution_count": 15,
   "metadata": {},
   "outputs": [
    {
     "name": "stdout",
     "output_type": "stream",
     "text": [
      "i: 1\n",
      "\n",
      "i: 2\n",
      "\n",
      "start\n",
      "3의 배수: 3\n",
      "\n",
      "i: 4\n",
      "\n",
      "i: 5\n",
      "\n",
      "start\n",
      "3의 배수: 6\n",
      "\n",
      "i: 7\n",
      "\n"
     ]
    }
   ],
   "source": [
    "for i in lst:\n",
    "  if i % 3 == 0: \n",
    "    print(f'start')\n",
    "    pass\n",
    "    print(f'3의 배수: {i}\\n')\n",
    "  else:\n",
    "    print(f'i: {i}\\n')"
   ]
  },
  {
   "cell_type": "markdown",
   "metadata": {},
   "source": [
    "for - else\n",
    "- for문 실행이 정상적으로 완료되면 else가 실행\n",
    "- for문 내에 오류가 발생 했을 시 else는 실행되지 않는다.\n",
    "- break를 만나면 실행되지 않는다. (pass, continue는 실행된다.)"
   ]
  },
  {
   "cell_type": "code",
   "execution_count": 17,
   "metadata": {},
   "outputs": [
    {
     "name": "stdout",
     "output_type": "stream",
     "text": [
      "홀수: 1\n",
      "짝수: 2\n",
      "홀수: 3\n",
      "짝수: 4\n",
      "홀수: 5\n",
      "짝수: 6\n",
      "홀수: 7\n",
      "for문 완료\n"
     ]
    }
   ],
   "source": [
    "for i in lst:\n",
    "  if i % 2 == 0: # 짝수만\n",
    "    pass\n",
    "    print(f'짝수: {i}')\n",
    "  else:\n",
    "    print(f'홀수: {i}')\n",
    "else:\n",
    "  print(f'for문 완료')"
   ]
  },
  {
   "cell_type": "markdown",
   "metadata": {},
   "source": [
    "while\n",
    "- for문과 친구\n",
    "- 조건이 참일 경우에만 계속 실행 (무한)\n",
    "    - 거짓일 경우에는 끝난다.\n",
    "    - for는 요소의 값이 끝나면 끝난다."
   ]
  },
  {
   "cell_type": "code",
   "execution_count": null,
   "metadata": {},
   "outputs": [],
   "source": [
    "total = 0\n",
    "index = 0\n",
    "\n",
    "while index < 10:\n",
    "  index += 1 # index = index + 1\n",
    "  print(f'i: {index}')\n",
    "  total += index\n",
    "\n",
    "print(total)"
   ]
  },
  {
   "cell_type": "markdown",
   "metadata": {},
   "source": [
    "예외처리\n",
    "- 왜 써야 하나?\n",
    "    1. 물건 선택\n",
    "    2. 결제\n",
    "    3. 배송 => 오류발생\n",
    "    => 오류 발생 시, 처리가 필요\n",
    "\n",
    "- try / except / else / finally"
   ]
  },
  {
   "cell_type": "code",
   "execution_count": 18,
   "metadata": {},
   "outputs": [
    {
     "name": "stdout",
     "output_type": "stream",
     "text": [
      "오류명: <class 'ValueError'> / 오류 메세지: invalid literal for int() with base 10: 'abc'\n"
     ]
    }
   ],
   "source": [
    "try:\n",
    "  int('abc')\n",
    "except Exception as e:\n",
    "  print(f'오류명: {type(e)} / 오류 메세지: {e}')"
   ]
  },
  {
   "cell_type": "code",
   "execution_count": 19,
   "metadata": {},
   "outputs": [
    {
     "name": "stdout",
     "output_type": "stream",
     "text": [
      "33\n",
      "else ~~\n",
      "finally ~~\n"
     ]
    }
   ],
   "source": [
    "try:\n",
    "  x = 11 + int('22')\n",
    "  print(x)\n",
    "except:\n",
    "  print('except ~~')\n",
    "else:\n",
    "  print('else ~~')\n",
    "finally:\n",
    "  print('finally ~~')"
   ]
  },
  {
   "cell_type": "markdown",
   "metadata": {},
   "source": [
    "문제 - 어제 문제 풀이 변형"
   ]
  },
  {
   "cell_type": "code",
   "execution_count": 1,
   "metadata": {},
   "outputs": [],
   "source": [
    "dic = {\n",
    "    'numbers':[1,2,3,4,5],\n",
    "    'users': [\n",
    "        {\n",
    "            'name':'이순신', 'addr':'서울시', 'age': 3\n",
    "        },\n",
    "        {\n",
    "            'name':'신사임당', 'addr':'부산시', 'age': 5\n",
    "        },\n",
    "        {\n",
    "            'name':'홍길동', 'addr':'서울시', 'age': 7\n",
    "        }\n",
    "    ]\n",
    "}"
   ]
  },
  {
   "cell_type": "code",
   "execution_count": 30,
   "metadata": {},
   "outputs": [
    {
     "name": "stdout",
     "output_type": "stream",
     "text": [
      "홍길동\n"
     ]
    }
   ],
   "source": [
    "# 1. numbers에 없는 나이를 갖은 사람의 이름?\n",
    "for user in dic['users']:\n",
    "    if (user['age'] in dic['numbers']):\n",
    "        continue\n",
    "    else:\n",
    "        print(user['name'])\n"
   ]
  },
  {
   "cell_type": "code",
   "execution_count": 32,
   "metadata": {},
   "outputs": [
    {
     "name": "stdout",
     "output_type": "stream",
     "text": [
      "홍길동\n"
     ]
    }
   ],
   "source": [
    "for user in dic['users']:\n",
    "    if (user['age'] not in dic['numbers']):\n",
    "        print(user['name'])"
   ]
  },
  {
   "cell_type": "code",
   "execution_count": 2,
   "metadata": {},
   "outputs": [
    {
     "name": "stdout",
     "output_type": "stream",
     "text": [
      "2\n"
     ]
    }
   ],
   "source": [
    "# 2. users의 addr에 대한 유니크한 숫자?\n",
    "list = []\n",
    "for user in dic['users']:\n",
    "    list.append(user['addr'])\n",
    "    print(user['addr'])\n",
    "set(list)\n",
    "print(len(set(list)))"
   ]
  },
  {
   "cell_type": "code",
   "execution_count": 33,
   "metadata": {},
   "outputs": [
    {
     "data": {
      "text/plain": [
       "2"
      ]
     },
     "execution_count": 33,
     "metadata": {},
     "output_type": "execute_result"
    }
   ],
   "source": [
    "len(set([user['addr'] for user in dic['users']]))"
   ]
  },
  {
   "cell_type": "markdown",
   "metadata": {},
   "source": [
    "## 초급문제"
   ]
  },
  {
   "cell_type": "markdown",
   "metadata": {},
   "source": [
    "### 1. 소수 구분\n",
    "프로그래머 X는 입력값을 숫자를 입력하거나 문자를 입력하려고 하는데,\n",
    "- 만약 숫자를 입력하였으면 그것이 정수인지, 소수인지 구별하는 프로그램을 짜보도록 하고,\n",
    "- 만약 문자를 입력하였으면 숫자가 아니므로 math error를 표시하게 하라."
   ]
  },
  {
   "cell_type": "code",
   "execution_count": 56,
   "metadata": {},
   "outputs": [
    {
     "name": "stdout",
     "output_type": "stream",
     "text": [
      "입력받은 값은 소수가 아닙니다.\n"
     ]
    }
   ],
   "source": [
    "input = 6\n",
    "rst_num = 0\n",
    "\n",
    "try:\n",
    "    # 입력받은 값을 정수화 시킨다. => 정수화가 안될 시 except\n",
    "    input_num = int(input)\n",
    "    # 1은 소수가 아니다.\n",
    "    if (input_num == 1):\n",
    "        print(\"입력받은 값은 소수가 아닙니다.\")\n",
    "    else:\n",
    "        for n in range(2,input_num):  # 소수는 1과 나 자신 외의 값, 다른 값으로 나누어지면 안된다. (2 ~ n-1)의 값으로 나누어 지면 안된다.\n",
    "            if (input_num % n == 0):  # 나누어 떨어지면 rst_num 값을 올린다.\n",
    "                rst_num += 1\n",
    "                break\n",
    "        if (rst_num == 0):  # 위에서 저장한 rst_num의 값이 0이면 소수이다.\n",
    "            print(\"입력받은 값은 소수입니다.\")\n",
    "        else:\n",
    "            print(\"입력받은 값은 소수가 아닙니다.\")\n",
    "except Exception as e:\n",
    "    print(\"math error\")"
   ]
  },
  {
   "cell_type": "code",
   "execution_count": 62,
   "metadata": {},
   "outputs": [
    {
     "name": "stdout",
     "output_type": "stream",
     "text": [
      "math error\n"
     ]
    }
   ],
   "source": [
    "try:\n",
    "    input_value = input(\"숫자를 입력하세요 : \")\n",
    "\n",
    "    input_value = int(input_value)\n",
    "    if (input_value == 1 or input_value == 2):\n",
    "        print(\"입력받은 값은 소수가 아닙니다.\")\n",
    "    for n in range(2,input_value):\n",
    "        if (input_value % n == 0):\n",
    "            print(\"입력받은 숫자는 소수가 아닙니다.\")\n",
    "            break\n",
    "    else:\n",
    "        print(\"입력받은 숫자는 소수입니다.\")\n",
    "except:\n",
    "    print(\"math error\")"
   ]
  },
  {
   "cell_type": "markdown",
   "metadata": {},
   "source": [
    "### 소수 구분 - 강사님 풀이"
   ]
  },
  {
   "cell_type": "code",
   "execution_count": 59,
   "metadata": {},
   "outputs": [
    {
     "name": "stdout",
     "output_type": "stream",
     "text": [
      "math error\n"
     ]
    }
   ],
   "source": [
    "is_decimal = True  # 초기값 설정 => 소수가 True라고 정의\n",
    "\n",
    "try:\n",
    "    answer = input(\"숫자를 입력해주세요: \")  # 입력받은 수는 type은 str이다.\n",
    "\n",
    "    answer = int(answer)\n",
    "    for i in range(2, answer):  # 2부터 입력받은 수 까지 (입력받은 수는 미포함)\n",
    "        # x가 해당 수로 나누어떨어진다면\n",
    "        if answer % i == 0:  # 소수는 나누어 떨어지면 안된다.\n",
    "            print(\"소수가 아닙니다.\")\n",
    "            is_decimal = False  # 입력값이 소수가 아니라는 뜻\n",
    "            break\n",
    "\n",
    "    if is_decimal:\n",
    "      print(\"소수입니다.\")\n",
    "except:  # int로 형변환이 되지 않을 경우 exception (answer = int(answer))\n",
    "    print(\"math error\")"
   ]
  },
  {
   "cell_type": "code",
   "execution_count": 63,
   "metadata": {},
   "outputs": [
    {
     "name": "stdout",
     "output_type": "stream",
     "text": [
      "math error\n"
     ]
    }
   ],
   "source": [
    "try:\n",
    "  answer = input(\"숫자를 입력해주세요: \")\n",
    "  answer = int(answer)\n",
    "  assert answer >= 2 # 입력 숫자가 1이하인경우 오류로 발생!! \n",
    "\n",
    "  for i in range(2, answer):\n",
    "      if answer % i == 0:\n",
    "        print(\"소수가 아닙니다.\")\n",
    "        break\n",
    "  else:\n",
    "    print(\"소수입니다.\")\n",
    "except:\n",
    "    print(\"math error\")"
   ]
  },
  {
   "cell_type": "markdown",
   "metadata": {},
   "source": [
    "### 2. 최대값, 최소값, 중간값 출력\n",
    "ex) [8, 6, 2, 8, 5, 1, 2, 5, 4, 9]\n",
    "최소값 : 1 / 최대값 : 9 / 중간값 : 5"
   ]
  },
  {
   "cell_type": "code",
   "execution_count": 85,
   "metadata": {},
   "outputs": [
    {
     "name": "stdout",
     "output_type": "stream",
     "text": [
      "[1, 2, 4, 5, 6, 8, 9]\n",
      "최소값 : 1 / 최대값 : 9 / 중간값 : 5\n"
     ]
    }
   ],
   "source": [
    "answer = [8, 6, 2, 8, 5, 1, 2, 5, 4, 9]\n",
    "min = 0\n",
    "max = 0\n",
    "mid = 0\n",
    "\n",
    "# 중복값 제거\n",
    "answer_set = set(answer)\n",
    "# 정렬\n",
    "answer_sort = sorted(answer_set)\n",
    "print(answer_sort)\n",
    "\n",
    "# 최소값, 최대값, 중간값 \n",
    "min = answer_sort[0]\n",
    "max = answer_sort[-1]\n",
    "mid_value = int(len(answer_sort) / 2)\n",
    "mid = answer_sort[mid_value]\n",
    "\n",
    "print(f\"최소값 : {min} / 최대값 : {max} / 중간값 : {mid}\")\n"
   ]
  },
  {
   "cell_type": "code",
   "execution_count": 88,
   "metadata": {},
   "outputs": [
    {
     "name": "stdout",
     "output_type": "stream",
     "text": [
      "[1, 2, 3, 4, 5, 6, 7, 8, 9, 10]\n",
      "최소값 : 1 / 최대값 : 10 / 중간값 : 6\n"
     ]
    }
   ],
   "source": [
    "answer = [1, 2, 3, 4, 5, 6, 7, 8, 9, 10]\n",
    "min = 0\n",
    "max = 0\n",
    "mid = 0\n",
    "\n",
    "# 중복값 제거\n",
    "answer_set = set(answer)\n",
    "# 정렬\n",
    "answer_sort = sorted(answer_set)\n",
    "print(answer_sort)\n",
    "\n",
    "# 최소값, 최대값, 중간값 \n",
    "min = answer_sort[0]\n",
    "max = answer_sort[-1]\n",
    "mid_value = len(answer_sort) // 2\n",
    "mid = answer_sort[mid_value]\n",
    "\n",
    "print(f\"최소값 : {min} / 최대값 : {max} / 중간값 : {mid}\")"
   ]
  },
  {
   "cell_type": "markdown",
   "metadata": {},
   "source": [
    "### 최대값, 최소값, 중간값 출력 - 강사님 풀이"
   ]
  },
  {
   "cell_type": "code",
   "execution_count": 90,
   "metadata": {},
   "outputs": [
    {
     "name": "stdout",
     "output_type": "stream",
     "text": [
      "before lst: [5, 3, 0, 1, 4, 5, 6, 9, 0, 0]\n",
      "after lst: [0, 0, 0, 1, 3, 4, 5, 5, 6, 9]\n",
      "최소값: 0 / 최대값: 9 / 중간값: 3\n"
     ]
    }
   ],
   "source": [
    "import random\n",
    "\n",
    "# random으로 0 ~ 9 사이의 정수를 뽑는다.\n",
    "# for _ => 변수를 사용하지 않을 경우 _ 사용\n",
    "lst = [ random.randint(0,9) for _ in range(10)]\n",
    "'''\n",
    "for i in range(10):\n",
    "    lst.append(random.randint(0, 9))\n",
    "'''\n",
    "print(f'before lst: {lst}')\n",
    "random.shuffle(lst)  # 섞다.\n",
    "lst.sort() # 정렬\n",
    "print(f'after lst: {lst}')\n",
    "\n",
    "median = (len(lst) -1) / 2  # median의 index 값\n",
    "minimum = lst[0]\n",
    "maximum = lst[-1]\n",
    "\n",
    "print(f'최소값: {minimum} / 최대값: {maximum} / 중간값: {lst[int(median)]}')"
   ]
  },
  {
   "cell_type": "markdown",
   "metadata": {},
   "source": [
    "### 3. 방탈출 게임\n",
    "- 비밀번호는 3자리로 한다.\n",
    "- 비밀번호를 입력하게 한다.\n",
    "- 비밀번호가 틀리면 처음부터 다시 입력하게 한다.\n",
    "- 비밀번호가 맞으면 성공 메시지를 출력한다."
   ]
  },
  {
   "cell_type": "code",
   "execution_count": null,
   "metadata": {},
   "outputs": [],
   "source": [
    "import random\n",
    "\n",
    "password = str(random.randint(0,9)) + str(random.randint(0,9)) + str(random.randint(0,9))"
   ]
  },
  {
   "cell_type": "code",
   "execution_count": 4,
   "metadata": {},
   "outputs": [
    {
     "name": "stdout",
     "output_type": "stream",
     "text": [
      "틀림\n",
      "틀림\n",
      "틀림\n",
      "틀림\n",
      "비밀번호는 3자리 입니다.\n",
      "비밀번호는 3자리 입니다.\n",
      "비밀번호는 3자리 입니다.\n",
      "비밀번호는 3자리 입니다.\n",
      "비밀번호는 3자리 입니다.\n",
      "비밀번호는 3자리 입니다.\n",
      "비밀번호는 3자리 입니다.\n",
      "비밀번호는 3자리 입니다.\n",
      "비밀번호는 3자리 입니다.\n",
      "비밀번호는 3자리 입니다.\n",
      "비밀번호는 3자리 입니다.\n",
      "비밀번호는 3자리 입니다.\n",
      "비밀번호는 3자리 입니다.\n"
     ]
    }
   ],
   "source": [
    "is_pass = True\n",
    "\n",
    "while is_pass:\n",
    "    input_value = input(\"비밀번호를 입력해주세요. : \")\n",
    "    if len(input_value) != 3:\n",
    "        print(\"비밀번호는 3자리 입니다.\")\n",
    "    elif not input_value.isdigit():\n",
    "        print(\"숫자만 입력해주세요.\")\n",
    "    elif input_value == password:\n",
    "        print(\"성공!\")\n",
    "    else:\n",
    "        print(\"틀림\")"
   ]
  },
  {
   "cell_type": "markdown",
   "metadata": {},
   "source": [
    "### 방탈출 게임 - 강사님 풀이"
   ]
  },
  {
   "cell_type": "code",
   "execution_count": null,
   "metadata": {},
   "outputs": [],
   "source": [
    "import random\n",
    "\n",
    "password = str(random.randint(0,9)) + str(random.randint(0,9)) + str(random.randint(0,9))\n",
    "\n",
    "answer = input()\n",
    "\n",
    "# 입력값 검증\n",
    "if len(answer) != 3:\n",
    "    print(\"비밀번호 길이가 틀립니다.\")\n",
    "elif not answer.isdigit():\n",
    "    print(\"숫자만 입력해주세요.\")\n",
    "\n",
    "# 정답 비교\n",
    "elif answer == password:\n",
    "    print('성공')\n",
    "else:\n",
    "    print('틀림')"
   ]
  }
 ],
 "metadata": {
  "kernelspec": {
   "display_name": ".venv",
   "language": "python",
   "name": "python3"
  },
  "language_info": {
   "codemirror_mode": {
    "name": "ipython",
    "version": 3
   },
   "file_extension": ".py",
   "mimetype": "text/x-python",
   "name": "python",
   "nbconvert_exporter": "python",
   "pygments_lexer": "ipython3",
   "version": "3.11.5"
  },
  "orig_nbformat": 4
 },
 "nbformat": 4,
 "nbformat_minor": 2
}
