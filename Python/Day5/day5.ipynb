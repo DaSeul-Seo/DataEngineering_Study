{
 "cells": [
  {
   "cell_type": "markdown",
   "metadata": {},
   "source": [
    "### 클래스 (class)"
   ]
  },
  {
   "cell_type": "markdown",
   "metadata": {},
   "source": [
    "### 개 & 고양이 문제\n",
    "<포유류 특징>\n",
    "- 성별\n",
    "- 나이\n",
    "- 다리\n",
    "-----------------\n",
    "- 새끼를 낳는다.\n",
    "- 밥 먹는다.\n",
    "\n",
    "<강아지>\n",
    "- 짖는다.\n",
    "- 꼬리를 흔든다.\n",
    "\n",
    "<고양이>\n",
    "- 할퀸다.\n",
    "- 구르밍한다."
   ]
  },
  {
   "cell_type": "code",
   "execution_count": 22,
   "metadata": {},
   "outputs": [],
   "source": [
    "class Animal:\n",
    "    name = \"이름\"\n",
    "    sex = \"성\"\n",
    "    age = \"나이\"\n",
    "    leg = \"다리\"\n",
    "\n",
    "    def __init__(self, name, sex, age, leg):\n",
    "        self.name = name\n",
    "        self.sex = sex\n",
    "        self.age = age\n",
    "        self.leg = leg\n",
    "    \n",
    "    def Eat(self):\n",
    "        print(\"밥을 먹는다.\")\n",
    "\n",
    "    def Baby(self):\n",
    "        print(\"새끼를 낳는다.\")\n",
    "\n",
    "class Dog(Animal):    \n",
    "    def Bark(self):\n",
    "        print(\"개가 짖는다.\")\n",
    "\n",
    "    def ShakeTail(self):\n",
    "        print(\"개가 꼬리를 흔든다.\")\n",
    "\n",
    "class Cat(Animal):    \n",
    "    def Scratch(self):\n",
    "        print(\"고양이가 할퀸다.\")\n",
    "\n",
    "    def Guruming(self):\n",
    "        print(\"고양이가 그루밍한다.\")"
   ]
  },
  {
   "cell_type": "code",
   "execution_count": 23,
   "metadata": {},
   "outputs": [
    {
     "name": "stdout",
     "output_type": "stream",
     "text": [
      "개가 짖는다.\n",
      "밥을 먹는다.\n",
      "고양이가 그루밍한다.\n",
      "새끼를 낳는다.\n"
     ]
    }
   ],
   "source": [
    "jindo = Dog(\"진돗개\", \"남\", 3, 4)\n",
    "doberman = Dog(\"도베르만\", \"여\", 1, 4)\n",
    "persian = Cat(\"페르시안\", \"여\", 3, 4)\n",
    "munchkin = Cat(\"먼치킨\", \"남\", 2, 4)\n",
    "\n",
    "jindo.Bark()\n",
    "doberman.Eat()\n",
    "persian.Guruming()\n",
    "munchkin.Baby()"
   ]
  },
  {
   "cell_type": "markdown",
   "metadata": {},
   "source": [
    "### 개 & 고양이 문제 - 강사님 풀이"
   ]
  },
  {
   "cell_type": "markdown",
   "metadata": {},
   "source": [
    "### 부모클래스 : 포유류\n",
    "- 변수\n",
    "    - 이름, 성별, 나이, 다리..\n",
    "- 기능 (메소드)\n",
    "    - 밥을 먹는다.\n",
    "    - 새끼를 낳는다\n",
    "\n",
    "### 강아지 클래스\n",
    "- 기능\n",
    "    - 짖는다.\n",
    "    - 꼬리를 흔든다.\n",
    "\n",
    "### 고양이 클래스\n",
    "- 기능\n",
    "    - 할퀸다.\n",
    "    - 그루밍한다."
   ]
  },
  {
   "cell_type": "code",
   "execution_count": 180,
   "metadata": {},
   "outputs": [],
   "source": [
    "class Animal:\n",
    "    name = \"\"   # 클래스 변수\n",
    "    food = \"옥수수\"\n",
    "\n",
    "    '''\n",
    "    self = 인스턴스\n",
    "    self.name은 외부 p_name(입력변수 = 파라미터)을 받아서 업데이트\n",
    "    self.gender ~ self.baby_name은 새로 변수 생성한 것\n",
    "\n",
    "     '''\n",
    "    def __init__(self, p_name:str, p_gender:bool, p_age:int = 0, p_leg_cnt:int = 4) -> None:\n",
    "        self.name = p_name          # 클래스 변수\n",
    "        self.gender = p_gender      # 인스턴스 변수\n",
    "        self.age = p_age            # 인스턴스 변수\n",
    "        self.leg_cnt = p_leg_cnt    # 인스턴스 변수\n",
    "        self.baby_name = f\"{p_name}'s baby\"\n",
    "    \n",
    "    # p_food가 None이면 옥수수로 하고 아니면 업데이트\n",
    "    def eat_food(self, p_food:str = None) -> None:\n",
    "        if (p_food is not None):\n",
    "            self.food = p_food\n",
    "\n",
    "        print(f\"{self.food}를 먹는다.\")\n",
    "\n",
    "    def get_baby(self, p_baby_name:str = None) -> str:\n",
    "        if (p_baby_name is not None):\n",
    "            self.baby_name = p_baby_name\n",
    "\n",
    "        print(f\"아기의 이름은 {self.baby_name} 입니다.\")\n",
    "        return self.baby_name"
   ]
  },
  {
   "cell_type": "code",
   "execution_count": 39,
   "metadata": {},
   "outputs": [],
   "source": [
    "person = Animal(p_name = \"Marlin\", p_gender = True, p_age = 27, p_leg_cnt = 2)"
   ]
  },
  {
   "cell_type": "code",
   "execution_count": 41,
   "metadata": {},
   "outputs": [
    {
     "name": "stdout",
     "output_type": "stream",
     "text": [
      "삽겹살 & 술를 먹는다.\n",
      "삽겹살 & 술를 먹는다.\n",
      "아기의 이름은 Marlin's baby 입니다.\n"
     ]
    },
    {
     "data": {
      "text/plain": [
       "\"Marlin's baby\""
      ]
     },
     "execution_count": 41,
     "metadata": {},
     "output_type": "execute_result"
    }
   ],
   "source": [
    "person.eat_food()\n",
    "person.eat_food(\"삽겹살 & 술\")\n",
    "\n",
    "baby_name = person.get_baby()\n",
    "baby_name"
   ]
  },
  {
   "cell_type": "code",
   "execution_count": 43,
   "metadata": {},
   "outputs": [],
   "source": [
    "class Dog(Animal):\n",
    "    def bark(self):\n",
    "        print(f\"{self.name}의 나이가 {self.age} 만큼 많아서 멍멍소리가 약하다.\")\n",
    "    \n",
    "    def dog_tail(self):\n",
    "        print(f\"{self.name} 꼬리를 흔들고 있다.\")"
   ]
  },
  {
   "cell_type": "code",
   "execution_count": 44,
   "metadata": {},
   "outputs": [
    {
     "name": "stdout",
     "output_type": "stream",
     "text": [
      "옥수수를 먹는다.\n",
      "쫑쫑이의 나이가 20 만큼 많아서 멍멍소리가 약하다.\n"
     ]
    }
   ],
   "source": [
    "dog1 = Dog(p_name = \"쫑쫑이\", p_gender = False, p_age = 20)\n",
    "\n",
    "dog1.eat_food()\n",
    "dog1.bark()"
   ]
  },
  {
   "cell_type": "code",
   "execution_count": 181,
   "metadata": {},
   "outputs": [],
   "source": [
    "class Cat(Animal):\n",
    "    def __init__(self, p_name = \"쫑쫑이\", p_gender = False, p_power = None): # 부모의 필수값을 무조건 써주어야 한다. 추가 변수를 받아도 된다.\n",
    "        super().__init__(p_name, p_gender)   # 부모 클래스에서 p_age와 p_leg_cnt는 디폴트 값이 있기 떄문에 필수로 넣지 않아도 된다.\n",
    "        if (p_power is not None):\n",
    "            self.power = p_power\n",
    "        else:\n",
    "            self.power = self.age + 10\n",
    "\n",
    "    def scratch(self):\n",
    "        print(\"쓰윽\" * self.power)\n",
    "    \n",
    "    def groom(self):\n",
    "        _tmp = self.power - self.age\n",
    "        print(\"꽃무장\" * _tmp)\n",
    "\n",
    "    # __call__ : 인스턴스()\n",
    "    def __call__(self):\n",
    "        self.scratch()\n",
    "        self.groom()"
   ]
  },
  {
   "cell_type": "code",
   "execution_count": 49,
   "metadata": {},
   "outputs": [],
   "source": [
    "cat = Cat(p_name=\"쫑쫑이\", p_gender=False, p_power=3)"
   ]
  },
  {
   "cell_type": "code",
   "execution_count": 184,
   "metadata": {},
   "outputs": [
    {
     "name": "stdout",
     "output_type": "stream",
     "text": [
      "쓰윽쓰윽쓰윽\n",
      "쓰윽쓰윽쓰윽\n",
      "꽃무장꽃무장꽃무장\n"
     ]
    }
   ],
   "source": [
    "cat.scratch()\n",
    "cat() # Cat의 __call__ 메소드를 실행"
   ]
  },
  {
   "cell_type": "markdown",
   "metadata": {},
   "source": [
    "### 이동수단 문제\n",
    "### 부모클래스 : 이동수단\n",
    "- 변수\n",
    "    - 바퀴수 = 0\n",
    "    - 탑승인원 = 0\n",
    "- 기능\n",
    "    - 후진 = \"뒤로 이동\"\n",
    "    - 전진 = \"앞으로 이동\""
   ]
  },
  {
   "cell_type": "code",
   "execution_count": 122,
   "metadata": {},
   "outputs": [],
   "source": [
    "class Transport:\n",
    "    wheel_num = 0\n",
    "    person_num = 0\n",
    "\n",
    "    def __init__(self, p_wheel_num:int = 0, p_person_num:int = 0) -> None:\n",
    "        self.wheel_num = p_wheel_num\n",
    "        self.person_num = p_person_num\n",
    "\n",
    "    def Go(self) -> None:\n",
    "        print(f\"탑승인원 : {self.person_num}, 바퀴수 : {self.wheel_num}, 앞으로 이동\")\n",
    "\n",
    "    def Back(self) -> None:\n",
    "        print(f\"탑승인원 : {self.person_num}, 바퀴수 : {self.wheel_num}, 뒤로 이동\")"
   ]
  },
  {
   "cell_type": "code",
   "execution_count": 123,
   "metadata": {},
   "outputs": [
    {
     "name": "stdout",
     "output_type": "stream",
     "text": [
      "탑승인원 : 3, 바퀴수 : 4, 앞으로 이동\n"
     ]
    }
   ],
   "source": [
    "trans = Transport(p_wheel_num = 4, p_person_num = 3)\n",
    "trans.Go()"
   ]
  },
  {
   "cell_type": "markdown",
   "metadata": {},
   "source": [
    "### 오토바이 클래스\n",
    "- 변수\n",
    "    - 바퀴수 = 2\n",
    "    - 탑승인원 = 1\n",
    "- 기능\n",
    "    - 점프 = \"점프한다\"\n",
    "    - 후진 = \"앞바퀴를 들고 후진\""
   ]
  },
  {
   "cell_type": "code",
   "execution_count": 124,
   "metadata": {},
   "outputs": [],
   "source": [
    "class Motorcycle(Transport):\n",
    "    def __init__(self, p_wheel_num:int = 2, p_person_num:int = 1) -> None:\n",
    "        super().__init__(p_wheel_num, p_person_num)\n",
    "\n",
    "    def Jump(self) -> None:\n",
    "        print(f\"탑승인원 : {self.person_num}, 바퀴수 : {self.wheel_num}, 점프한다.\")\n",
    "\n",
    "    def Back(self) -> None:\n",
    "        print(f\"탑승인원 : {self.person_num}, 바퀴수 : {self.wheel_num}, 앞바퀴를 들고 후진\")\n"
   ]
  },
  {
   "cell_type": "code",
   "execution_count": 125,
   "metadata": {},
   "outputs": [
    {
     "name": "stdout",
     "output_type": "stream",
     "text": [
      "motorcycle1\n",
      "탑승인원 : 1, 바퀴수 : 2, 점프한다.\n",
      "탑승인원 : 1, 바퀴수 : 2, 앞으로 이동\n",
      "탑승인원 : 1, 바퀴수 : 2, 앞바퀴를 들고 후진\n",
      "motorcycle2\n",
      "탑승인원 : 2, 바퀴수 : 4, 점프한다.\n",
      "탑승인원 : 2, 바퀴수 : 4, 앞으로 이동\n",
      "탑승인원 : 2, 바퀴수 : 4, 앞바퀴를 들고 후진\n"
     ]
    }
   ],
   "source": [
    "print(\"motorcycle1\")\n",
    "motorcycle = Motorcycle()\n",
    "motorcycle.Jump()\n",
    "motorcycle.Go()\n",
    "motorcycle.Back()\n",
    "print(\"motorcycle2\")\n",
    "motorcycle2 = Motorcycle(p_wheel_num=4, p_person_num=2)\n",
    "motorcycle2.Jump()\n",
    "motorcycle2.Go()\n",
    "motorcycle2.Back()"
   ]
  },
  {
   "cell_type": "markdown",
   "metadata": {},
   "source": [
    "### 배 클래스\n",
    "- 변수\n",
    "    - 탑승인원 = 4\n",
    "    - 잠수유뮤\n",
    "- 기능\n",
    "    - 전진 = \"항해 한다\"\n",
    "    - 잠수 = 잠수유무 변수가 True = \"잠수한다\"\n",
    "                             False = \"잠수불가\""
   ]
  },
  {
   "cell_type": "code",
   "execution_count": 126,
   "metadata": {},
   "outputs": [],
   "source": [
    "class Ship(Transport):\n",
    "\n",
    "    def __init__(self, p_wheel_num:int = 0, p_person_num:int = 4, p_dive:bool = False) -> None:\n",
    "        super().__init__(p_wheel_num, p_person_num)\n",
    "        self.dive = p_dive\n",
    "\n",
    "    def Go(self) -> None:\n",
    "        if (self.dive == False):\n",
    "            print(f\"탑승인원 : {self.person_num}, 잠수유무: {self.dive}, 항해 한다.\")\n",
    "        else:\n",
    "            print(f\"탑승인원 : {self.person_num}, 잠수유무: {self.dive}, 잠수 항해.\")\n",
    "    \n",
    "    def Diving(self) -> None:\n",
    "        if (self.dive == True):\n",
    "            print(f\"탑승인원 : {self.person_num}, 잠수유무: {self.dive}, 잠수 한다.\")\n",
    "        else:\n",
    "            print(f\"탑승인원 : {self.person_num}, 잠수유무: {self.dive}, 잠수 불가.\")\n"
   ]
  },
  {
   "cell_type": "code",
   "execution_count": 129,
   "metadata": {},
   "outputs": [
    {
     "name": "stdout",
     "output_type": "stream",
     "text": [
      "ship\n",
      "탑승인원 : 4, 잠수유무: False, 잠수 불가.\n",
      "탑승인원 : 4, 잠수유무: False, 항해 한다.\n",
      "ship2\n",
      "탑승인원 : 4, 잠수유무: True, 잠수 한다.\n",
      "탑승인원 : 4, 잠수유무: True, 잠수 항해.\n"
     ]
    }
   ],
   "source": [
    "print(\"ship\")\n",
    "ship = Ship()\n",
    "ship.Diving()\n",
    "ship.Go()\n",
    "print(\"ship2\")\n",
    "ship2 = Ship(p_dive = True)\n",
    "ship2.Diving()\n",
    "ship2.Go()"
   ]
  },
  {
   "cell_type": "markdown",
   "metadata": {},
   "source": [
    "### 직업 문제\n",
    "### 부모클래스 : 사람\n",
    "- 변수 : 이름, 나이\n",
    "- 기능 : 일한다."
   ]
  },
  {
   "cell_type": "code",
   "execution_count": 202,
   "metadata": {},
   "outputs": [],
   "source": [
    "class Person:\n",
    "    def __init__(self, p_name:str = \"영희\", p_age:int = 20) -> None:\n",
    "        self.name = p_name\n",
    "        self.age = p_age\n",
    "    \n",
    "    def Working(self):\n",
    "        print(f\"{self.name} 이(가) 일한다.\")"
   ]
  },
  {
   "cell_type": "code",
   "execution_count": 203,
   "metadata": {},
   "outputs": [
    {
     "name": "stdout",
     "output_type": "stream",
     "text": [
      "영희 이(가) 일한다.\n"
     ]
    }
   ],
   "source": [
    "person = Person()\n",
    "person.Working()"
   ]
  },
  {
   "cell_type": "markdown",
   "metadata": {},
   "source": [
    "### 자식클래스 : 요리사\n",
    "- 변수 : 경력\n",
    "- 기능\n",
    "    - 일한다. (경력 > 10 이면 코스요리를 만든다. 아니면 디저트 만든다.)\n",
    "    - 주문 받는다. (\"{이름}\" 요리사 입니다.)"
   ]
  },
  {
   "cell_type": "code",
   "execution_count": 214,
   "metadata": {},
   "outputs": [],
   "source": [
    "class Chef(Person):\n",
    "    def __init__(self, p_career = 20):\n",
    "        super().__init__()\n",
    "        self.career = p_career\n",
    "\n",
    "    def Working(self):\n",
    "        if (self.career >= 10):\n",
    "            print(f\"{self.name} 요리사가 코스요리를 만든다.\")\n",
    "        else:\n",
    "            print(f\"{self.name} 요리사가 디저트를 만든다.\")\n",
    "    \n",
    "    def order(self):\n",
    "        print(f\"{self.name} 요리사 입니다.\")"
   ]
  },
  {
   "cell_type": "code",
   "execution_count": 216,
   "metadata": {},
   "outputs": [
    {
     "name": "stdout",
     "output_type": "stream",
     "text": [
      "영희 요리사가 코스요리를 만든다.\n",
      "영희 요리사가 디저트를 만든다.\n"
     ]
    }
   ],
   "source": [
    "chef = Chef()\n",
    "chef.Working()\n",
    "\n",
    "chef2 = Chef(9)\n",
    "chef2.Working()"
   ]
  },
  {
   "cell_type": "markdown",
   "metadata": {},
   "source": [
    "### 자식클래스 : 경찰\n",
    "- 변수 : power\n",
    "- 기능\n",
    "    - 일한다. (power > 10 이면 깡패를 잡는다. 아니면 순찰한다.)\n",
    "    - 접수 받는다. (\"무엇을 도와드릴까요?\")"
   ]
  },
  {
   "cell_type": "code",
   "execution_count": 217,
   "metadata": {},
   "outputs": [],
   "source": [
    "class Polic(Person):\n",
    "    def __init__(self, p_name:str, p_age:int, p_power:int):\n",
    "        super().__init__(p_name, p_age)\n",
    "        self.power = p_power\n",
    "    \n",
    "    def Working(self):\n",
    "        if (self.power > 10):\n",
    "            print(f\"{self.name} 형사가 깡패를 잡는다.\")\n",
    "        else:\n",
    "            print(f\"{self.name} 형사가 순찰한다.\")\n",
    "    \n",
    "    def Question(self):\n",
    "        print(\"무엇을 도와드릴까요?\")"
   ]
  },
  {
   "cell_type": "code",
   "execution_count": 221,
   "metadata": {},
   "outputs": [
    {
     "name": "stdout",
     "output_type": "stream",
     "text": [
      "철수 형사가 깡패를 잡는다.\n",
      "무엇을 도와드릴까요?\n"
     ]
    }
   ],
   "source": [
    "police = Polic(\"철수\", 33, 20)\n",
    "police.Working()\n",
    "police.Question()"
   ]
  },
  {
   "cell_type": "markdown",
   "metadata": {},
   "source": [
    "## 클래스 문제"
   ]
  },
  {
   "cell_type": "markdown",
   "metadata": {},
   "source": [
    "### 소수 구별\n",
    "- 프로그래머 X는 입력값을 숫자를 입력하거나 문자를 입력하려고 하는데,\n",
    "- 만약 숫자를 입력하였으면 그것이 정수인지, 소수인지 구별하는 프로그램을 짜보도록 하고,\n",
    "- 만약 문자를 입력하였으면 숫자가 아니므로 math error를 표시하게 하라."
   ]
  },
  {
   "cell_type": "code",
   "execution_count": 29,
   "metadata": {},
   "outputs": [
    {
     "name": "stdout",
     "output_type": "stream",
     "text": [
      "math error\n"
     ]
    }
   ],
   "source": [
    "class CheckDecimal:\n",
    "    def __init__(self, input_num):\n",
    "        self.input_num = input_num\n",
    "\n",
    "    def checkNum(self):\n",
    "        if (self.input_num == 1):\n",
    "            print(f\"{self.input_num} : 소수가 아닙니다.\")\n",
    "        elif (self.input_num == 2):\n",
    "            print(f\"{self.input_num} : 소수입니다.\")\n",
    "        else:\n",
    "            rst_num = 0\n",
    "            for i in range(2,self.input_num):\n",
    "                if (self.input_num % i == 0):\n",
    "                    rst_num += 1\n",
    "                    break\n",
    "\n",
    "            if (rst_num == 0):\n",
    "                print(f\"{self.input_num} : 소수입니다.\")\n",
    "            else:\n",
    "                print(f\"{self.input_num} : 소수가 아닙니다.\")\n",
    "\n",
    "try:\n",
    "    input_value = input(\"숫자를 입력해 주세요.\")\n",
    "    input_value = int(input_value)\n",
    "    numCheck = CheckDecimal(input_value)\n",
    "    numCheck.checkNum()\n",
    "except ValueError:\n",
    "    print(\"숫자가 아닙니다.\")\n",
    "except:\n",
    "    print(\"error\")"
   ]
  },
  {
   "cell_type": "code",
   "execution_count": 37,
   "metadata": {},
   "outputs": [
    {
     "name": "stdout",
     "output_type": "stream",
     "text": [
      "error\n"
     ]
    }
   ],
   "source": [
    "class CheckDecimal:\n",
    "    def checkNum(input_num):\n",
    "        if (input_num == 1):\n",
    "            print(f\"{input_num} : 소수가 아닙니다.\")\n",
    "        elif (input_num == 2):\n",
    "            print(f\"{input_num} : 소수입니다.\")\n",
    "        else:\n",
    "            rst_num = 0\n",
    "            for i in range(2,input_num):\n",
    "                if (input_num % i == 0):\n",
    "                    rst_num += 1\n",
    "                    break\n",
    "\n",
    "            if (rst_num == 0):\n",
    "                print(f\"{input_num} : 소수입니다.\")\n",
    "            else:\n",
    "                print(f\"{input_num} : 소수가 아닙니다.\")\n",
    "\n",
    "try:\n",
    "    input_value = input(\"숫자를 입력해 주세요.\")\n",
    "    input_value = int(input_value)\n",
    "    CheckDecimal.checkNum(input_value)\n",
    "except ValueError:\n",
    "    print(\"숫자가 아닙니다.\")\n",
    "except:\n",
    "    print(\"error\")\n"
   ]
  },
  {
   "cell_type": "code",
   "execution_count": null,
   "metadata": {},
   "outputs": [],
   "source": []
  },
  {
   "cell_type": "markdown",
   "metadata": {},
   "source": []
  }
 ],
 "metadata": {
  "kernelspec": {
   "display_name": ".venv",
   "language": "python",
   "name": "python3"
  },
  "language_info": {
   "codemirror_mode": {
    "name": "ipython",
    "version": 3
   },
   "file_extension": ".py",
   "mimetype": "text/x-python",
   "name": "python",
   "nbconvert_exporter": "python",
   "pygments_lexer": "ipython3",
   "version": "3.11.5"
  },
  "orig_nbformat": 4
 },
 "nbformat": 4,
 "nbformat_minor": 2
}
