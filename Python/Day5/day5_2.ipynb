{
 "cells": [
  {
   "cell_type": "markdown",
   "metadata": {},
   "source": [
    "### 수업 전 클래스 복습문제\n",
    "### 최대값, 최소값, 중간값 출력\n",
    "- ex) [8, 6, 2, 8, 5, 1, 2, 5, 4, 9]\n",
    "- 최소값 : 1 / 최대값 : 9 / 중간값 : 5"
   ]
  },
  {
   "cell_type": "code",
   "execution_count": 2,
   "metadata": {},
   "outputs": [
    {
     "data": {
      "text/plain": [
       "'최소값: 1, 최대값: 7, 중간값: 4'"
      ]
     },
     "execution_count": 2,
     "metadata": {},
     "output_type": "execute_result"
    }
   ],
   "source": [
    "class CheckNum:\n",
    "    lst = []\n",
    "    minimum = 0\n",
    "    maximum = 0\n",
    "    median = 0\n",
    "    \n",
    "    def __init__(self, p_lst:list = [8, 6, 2, 8, 5, 1, 2, 5, 4, 9]) -> None:\n",
    "        self.lst = p_lst\n",
    "\n",
    "    def judgmentNum(self) -> str:\n",
    "        tList = sorted(set(self.lst))\n",
    "        self.minimum = tList[0]\n",
    "        self.maximum = tList[-1]\n",
    "        self.median = tList[len(tList) // 2]\n",
    "        return f\"최소값: {self.minimum}, 최대값: {self.maximum}, 중간값: {self.median}\"\n",
    "\n",
    "checkNum = CheckNum([1, 2, 3, 4, 5, 6, 7])\n",
    "checkNum.judgmentNum()"
   ]
  },
  {
   "cell_type": "markdown",
   "metadata": {},
   "source": [
    "### 최소값, 최대값, 중간값 문제 - 강사님 풀이"
   ]
  },
  {
   "cell_type": "code",
   "execution_count": 3,
   "metadata": {},
   "outputs": [],
   "source": [
    "import random\n",
    "\n",
    "class RandomList:\n",
    "    def __init__(self, p_range=10):\n",
    "        self.lst = [ random.randint(0,9) for _ in range(p_range)]\n",
    "\n",
    "    def __call__(self):\n",
    "        random.shuffle(self.lst)\n",
    "        return self.lst"
   ]
  },
  {
   "cell_type": "code",
   "execution_count": 4,
   "metadata": {},
   "outputs": [],
   "source": [
    "class Game:\n",
    "    def __init__(self):\n",
    "        self.random_list = RandomList()  # 객체도 데이터다\n",
    "        self.median = 0\n",
    "        self.minimum = 0\n",
    "        self.maximum = 0\n",
    "\n",
    "    def __process(self, lst):\n",
    "        print(f'before list: {lst}')\n",
    "        lst.sort() # 정렬\n",
    "        print(f'after lst: {lst}')\n",
    "\n",
    "        self.median = (len(lst) -1) / 2\n",
    "        self.minimum = lst[0]\n",
    "        self.maximum = lst[-1]\n",
    "\n",
    "    def run(self, p_range=None):\n",
    "        if p_range:\n",
    "            self.random_list = RandomList(p_range)\n",
    "\n",
    "        lst = self.random_list()  # 인스턴스를 함수화해서 불렀다 -> __call__ 함수 호출\n",
    "        self.__process(lst)\n",
    "\n",
    "        print(f'최소값: {self.minimum} / 최대값: {self.maximum} / 중간값: {lst[int(self.median)]}')"
   ]
  },
  {
   "cell_type": "code",
   "execution_count": 5,
   "metadata": {},
   "outputs": [
    {
     "name": "stdout",
     "output_type": "stream",
     "text": [
      "before list: [1, 5, 5, 9, 0, 5, 3, 8, 1, 5]\n",
      "after lst: [0, 1, 1, 3, 5, 5, 5, 5, 8, 9]\n",
      "최소값: 0 / 최대값: 9 / 중간값: 5\n"
     ]
    }
   ],
   "source": [
    "game = Game()\n",
    "game.run()"
   ]
  },
  {
   "cell_type": "code",
   "execution_count": null,
   "metadata": {},
   "outputs": [],
   "source": []
  }
 ],
 "metadata": {
  "kernelspec": {
   "display_name": ".venv",
   "language": "python",
   "name": "python3"
  },
  "language_info": {
   "codemirror_mode": {
    "name": "ipython",
    "version": 3
   },
   "file_extension": ".py",
   "mimetype": "text/x-python",
   "name": "python",
   "nbconvert_exporter": "python",
   "pygments_lexer": "ipython3",
   "version": "3.11.5"
  }
 },
 "nbformat": 4,
 "nbformat_minor": 2
}
